{
 "cells": [
  {
   "cell_type": "markdown",
   "id": "b55225a6",
   "metadata": {},
   "source": [
    "## Práctica Titanic\n",
    "\n",
    "Vamos a trabajar con un dataset clásico utilizado en la ciencia de datos para aprender sobre predicción y clasificación de supervivencia en el hundimiento del Titanic. \n",
    "Este archivo contiene información de los pasajeros del Titanic. Incluye detalles tanto de las características personales como del viaje, además de si sobrevivieron o no.\n",
    "\n",
    "Aquí está una descripción de las columnas del archivo train.csv:\n",
    "\n",
    "### Columnas del dataset:\n",
    "\n",
    "* PassengerId:\n",
    "   * Tipo: Entero\n",
    "   * Descripción: Un identificador único para cada pasajero.\n",
    "\n",
    "* Survived:\n",
    "   * Tipo: Entero (0 o 1)\n",
    "   * Descripción: Indicador de supervivencia.\n",
    "        * 0 = No sobrevivió\n",
    "        * 1 = Sobrevivió\n",
    "\n",
    "* Pclass:\n",
    "  * Tipo: Entero (1, 2, o 3)\n",
    "  * Descripción: Clase de pasajero.\n",
    "     * 1 = Primera clase\n",
    "     * 2 = Segunda clase\n",
    "     * 3 = Tercera clase\n",
    "\n",
    "* Name:\n",
    "  * Tipo: Cadena de texto\n",
    "  * Descripción: Nombre del pasajero.\n",
    "\n",
    "* Sex:\n",
    "  *  Tipo: Cadena de texto ('male' o 'female')\n",
    "  *  Descripción: Género del pasajero.\n",
    "\n",
    "* Age:\n",
    "  * Tipo: Real en coma flotante\n",
    "  * Descripción: Edad del pasajero.\n",
    "\n",
    "* SibSp:\n",
    "  * Tipo: Entero\n",
    "  * Descripción: Número de hermanos o cónyuges a bordo del Titanic.\n",
    "    Combina hermanos (siblings) y esposas/esposos (spouses).\n",
    "    Ejemplo: Si un pasajero viaja con 2 hermanos y su esposa, SibSp será 3.\n",
    "\n",
    "* Parch:\n",
    "  * Tipo: Entero\n",
    "  * Descripción: Número de padres o hijos a bordo del Titanic.\n",
    "    Combina padres (parents) e hijos (children).\n",
    "    Ejemplo: Si un pasajero viaja con su madre y su hijo, Parch será 2.\n",
    "\n",
    "* Ticket:\n",
    "   * Tipo: Cadena de texto\n",
    "   * Descripción: Número del billete.\n",
    "\n",
    "* Fare:\n",
    "   * Tipo: Real en coma flotante\n",
    "   * Descripción: Tarifa del billete.\n",
    "\n",
    "* Cabin:\n",
    "   * Tipo: Cadena de texto\n",
    "   * Descripción: Número de cabina.\n",
    "\n",
    "* Embarked:\n",
    "  * Tipo: Cadena de texto (C, Q, o S)\n",
    "  * Descripción: Puerto de embarque del pasajero.\n",
    "     * C = Cherbourg\n",
    "     * Q = Queenstown\n",
    "     * S = Southampton"
   ]
  },
  {
   "cell_type": "markdown",
   "id": "76aeef53",
   "metadata": {},
   "source": [
    "Al realizar un análisis exploratorio de datos (EDA) sobre el archivo train.csv del Titanic, hay varias cosas clave que debes analizar para obtener una comprensión inicial del dataset y descubrir patrones, relaciones entre variables, y problemas que deban corregirse antes de construir un modelo predictivo.\n",
    "\n",
    "El modelo que construiremos tendrá como objetivo predecir si un pasajero sobrevivió o no basandonos en el resto de características."
   ]
  },
  {
   "cell_type": "markdown",
   "id": "5f754af1",
   "metadata": {},
   "source": [
    "### Importar librerías."
   ]
  },
  {
   "cell_type": "code",
   "execution_count": 1,
   "id": "66a16145-8c33-4cbd-a79d-2d8a7323d2e7",
   "metadata": {},
   "outputs": [],
   "source": [
    "# Load in some packages\n",
    "%matplotlib inline\n",
    "\n",
    "import numpy as np\n",
    "import pandas as pd\n",
    "import seaborn as sns\n",
    "import matplotlib.pyplot as plt\n",
    "import os"
   ]
  },
  {
   "cell_type": "markdown",
   "id": "8e6f8cf4-2de4-4b61-87fa-3a360607ccd7",
   "metadata": {},
   "source": [
    "### Cargar el dataset \n",
    "Cargamos el conjunto de datos en un *DataFrame* de `Pandas` de nombre *titanic_train*"
   ]
  },
  {
   "cell_type": "code",
   "execution_count": 2,
   "id": "42b4ee05-f4bd-4962-80a7-f437a5d162af",
   "metadata": {},
   "outputs": [],
   "source": [
    "titanic_train = pd.read_csv(\"train.csv\")    "
   ]
  },
  {
   "cell_type": "markdown",
   "id": "04b96bea",
   "metadata": {},
   "source": [
    "### Entender la naturaleza del dataset"
   ]
  },
  {
   "cell_type": "markdown",
   "id": "5b1b352f-2b60-4bfc-885f-059bb6d724d3",
   "metadata": {},
   "source": [
    "#### Dimensiones del dataset: \n",
    "Verifica cuántos registros y cuántas columnas tiene el dataset."
   ]
  },
  {
   "cell_type": "code",
   "execution_count": 3,
   "id": "b98fea70-28bb-46e1-8655-66a971ae111d",
   "metadata": {},
   "outputs": [
    {
     "data": {
      "text/plain": [
       "(891, 12)"
      ]
     },
     "execution_count": 3,
     "metadata": {},
     "output_type": "execute_result"
    }
   ],
   "source": [
    "titanic_train.shape "
   ]
  },
  {
   "cell_type": "markdown",
   "id": "49e0a718-8ef3-4997-915e-37e7cc3474dd",
   "metadata": {},
   "source": [
    "#### Tipos de datos: \n",
    "Comprueba el tipo de cada columna (numérico, categórico, cadena de texto, etc.)."
   ]
  },
  {
   "cell_type": "code",
   "execution_count": 4,
   "id": "329bdbd1-4873-4057-9726-8810d722fb91",
   "metadata": {},
   "outputs": [
    {
     "name": "stdout",
     "output_type": "stream",
     "text": [
      "<class 'pandas.core.frame.DataFrame'>\n",
      "<class 'pandas.core.frame.DataFrame'>\n",
      "RangeIndex: 891 entries, 0 to 890\n",
      "Data columns (total 12 columns):\n",
      " #   Column       Non-Null Count  Dtype  \n",
      "---  ------       --------------  -----  \n",
      " 0   PassengerId  891 non-null    int64  \n",
      " 1   Survived     891 non-null    int64  \n",
      " 2   Pclass       891 non-null    int64  \n",
      " 3   Name         891 non-null    object \n",
      " 4   Sex          891 non-null    object \n",
      " 5   Age          714 non-null    float64\n",
      " 6   SibSp        891 non-null    int64  \n",
      " 7   Parch        891 non-null    int64  \n",
      " 8   Ticket       891 non-null    object \n",
      " 9   Fare         891 non-null    float64\n",
      " 10  Cabin        204 non-null    object \n",
      " 11  Embarked     889 non-null    object \n",
      "dtypes: float64(2), int64(5), object(5)\n",
      "memory usage: 83.7+ KB\n"
     ]
    }
   ],
   "source": [
    "print(type(titanic_train))\n",
    "titanic_train.info()"
   ]
  },
  {
   "cell_type": "markdown",
   "id": "68dbe359",
   "metadata": {},
   "source": [
    "Preguntas que surgen:\n",
    "    * ¿De qué tipo son las características que forman mi dataset?\n",
    "    * ¿Tengo valores faltantes?\n",
    "    * ¿De qué tipo es la variable a predecir?"
   ]
  },
  {
   "cell_type": "markdown",
   "id": "f582a28d-8175-4eed-a1a1-8c80c032fcba",
   "metadata": {},
   "source": [
    "#### Primera visualización\n",
    "Imprime las 3 primeras filas y las 2 últimas."
   ]
  },
  {
   "cell_type": "code",
   "execution_count": 5,
   "id": "ea6d5f1f-fd6c-493f-83d8-727b686bd728",
   "metadata": {},
   "outputs": [
    {
     "data": {
      "text/html": [
       "<div>\n",
       "<style scoped>\n",
       "    .dataframe tbody tr th:only-of-type {\n",
       "        vertical-align: middle;\n",
       "    }\n",
       "\n",
       "    .dataframe tbody tr th {\n",
       "        vertical-align: top;\n",
       "    }\n",
       "\n",
       "    .dataframe thead th {\n",
       "        text-align: right;\n",
       "    }\n",
       "</style>\n",
       "<table border=\"1\" class=\"dataframe\">\n",
       "  <thead>\n",
       "    <tr style=\"text-align: right;\">\n",
       "      <th></th>\n",
       "      <th>PassengerId</th>\n",
       "      <th>Survived</th>\n",
       "      <th>Pclass</th>\n",
       "      <th>Name</th>\n",
       "      <th>Sex</th>\n",
       "      <th>Age</th>\n",
       "      <th>SibSp</th>\n",
       "      <th>Parch</th>\n",
       "      <th>Ticket</th>\n",
       "      <th>Fare</th>\n",
       "      <th>Cabin</th>\n",
       "      <th>Embarked</th>\n",
       "    </tr>\n",
       "  </thead>\n",
       "  <tbody>\n",
       "    <tr>\n",
       "      <th>0</th>\n",
       "      <td>1</td>\n",
       "      <td>0</td>\n",
       "      <td>3</td>\n",
       "      <td>Braund, Mr. Owen Harris</td>\n",
       "      <td>male</td>\n",
       "      <td>22.0</td>\n",
       "      <td>1</td>\n",
       "      <td>0</td>\n",
       "      <td>A/5 21171</td>\n",
       "      <td>7.2500</td>\n",
       "      <td>NaN</td>\n",
       "      <td>S</td>\n",
       "    </tr>\n",
       "    <tr>\n",
       "      <th>1</th>\n",
       "      <td>2</td>\n",
       "      <td>1</td>\n",
       "      <td>1</td>\n",
       "      <td>Cumings, Mrs. John Bradley (Florence Briggs Th...</td>\n",
       "      <td>female</td>\n",
       "      <td>38.0</td>\n",
       "      <td>1</td>\n",
       "      <td>0</td>\n",
       "      <td>PC 17599</td>\n",
       "      <td>71.2833</td>\n",
       "      <td>C85</td>\n",
       "      <td>C</td>\n",
       "    </tr>\n",
       "    <tr>\n",
       "      <th>2</th>\n",
       "      <td>3</td>\n",
       "      <td>1</td>\n",
       "      <td>3</td>\n",
       "      <td>Heikkinen, Miss. Laina</td>\n",
       "      <td>female</td>\n",
       "      <td>26.0</td>\n",
       "      <td>0</td>\n",
       "      <td>0</td>\n",
       "      <td>STON/O2. 3101282</td>\n",
       "      <td>7.9250</td>\n",
       "      <td>NaN</td>\n",
       "      <td>S</td>\n",
       "    </tr>\n",
       "  </tbody>\n",
       "</table>\n",
       "</div>"
      ],
      "text/plain": [
       "   PassengerId  Survived  Pclass  \\\n",
       "0            1         0       3   \n",
       "1            2         1       1   \n",
       "2            3         1       3   \n",
       "\n",
       "                                                Name     Sex   Age  SibSp  \\\n",
       "0                            Braund, Mr. Owen Harris    male  22.0      1   \n",
       "1  Cumings, Mrs. John Bradley (Florence Briggs Th...  female  38.0      1   \n",
       "2                             Heikkinen, Miss. Laina  female  26.0      0   \n",
       "\n",
       "   Parch            Ticket     Fare Cabin Embarked  \n",
       "0      0         A/5 21171   7.2500   NaN        S  \n",
       "1      0          PC 17599  71.2833   C85        C  \n",
       "2      0  STON/O2. 3101282   7.9250   NaN        S  "
      ]
     },
     "execution_count": 5,
     "metadata": {},
     "output_type": "execute_result"
    }
   ],
   "source": [
    "titanic_train.head(3)"
   ]
  },
  {
   "cell_type": "code",
   "execution_count": 6,
   "id": "28654860-f877-4be7-bd3a-b4380a4958b5",
   "metadata": {},
   "outputs": [
    {
     "data": {
      "text/html": [
       "<div>\n",
       "<style scoped>\n",
       "    .dataframe tbody tr th:only-of-type {\n",
       "        vertical-align: middle;\n",
       "    }\n",
       "\n",
       "    .dataframe tbody tr th {\n",
       "        vertical-align: top;\n",
       "    }\n",
       "\n",
       "    .dataframe thead th {\n",
       "        text-align: right;\n",
       "    }\n",
       "</style>\n",
       "<table border=\"1\" class=\"dataframe\">\n",
       "  <thead>\n",
       "    <tr style=\"text-align: right;\">\n",
       "      <th></th>\n",
       "      <th>PassengerId</th>\n",
       "      <th>Survived</th>\n",
       "      <th>Pclass</th>\n",
       "      <th>Name</th>\n",
       "      <th>Sex</th>\n",
       "      <th>Age</th>\n",
       "      <th>SibSp</th>\n",
       "      <th>Parch</th>\n",
       "      <th>Ticket</th>\n",
       "      <th>Fare</th>\n",
       "      <th>Cabin</th>\n",
       "      <th>Embarked</th>\n",
       "    </tr>\n",
       "  </thead>\n",
       "  <tbody>\n",
       "    <tr>\n",
       "      <th>889</th>\n",
       "      <td>890</td>\n",
       "      <td>1</td>\n",
       "      <td>1</td>\n",
       "      <td>Behr, Mr. Karl Howell</td>\n",
       "      <td>male</td>\n",
       "      <td>26.0</td>\n",
       "      <td>0</td>\n",
       "      <td>0</td>\n",
       "      <td>111369</td>\n",
       "      <td>30.00</td>\n",
       "      <td>C148</td>\n",
       "      <td>C</td>\n",
       "    </tr>\n",
       "    <tr>\n",
       "      <th>890</th>\n",
       "      <td>891</td>\n",
       "      <td>0</td>\n",
       "      <td>3</td>\n",
       "      <td>Dooley, Mr. Patrick</td>\n",
       "      <td>male</td>\n",
       "      <td>32.0</td>\n",
       "      <td>0</td>\n",
       "      <td>0</td>\n",
       "      <td>370376</td>\n",
       "      <td>7.75</td>\n",
       "      <td>NaN</td>\n",
       "      <td>Q</td>\n",
       "    </tr>\n",
       "  </tbody>\n",
       "</table>\n",
       "</div>"
      ],
      "text/plain": [
       "     PassengerId  Survived  Pclass                   Name   Sex   Age  SibSp  \\\n",
       "889          890         1       1  Behr, Mr. Karl Howell  male  26.0      0   \n",
       "890          891         0       3    Dooley, Mr. Patrick  male  32.0      0   \n",
       "\n",
       "     Parch  Ticket   Fare Cabin Embarked  \n",
       "889      0  111369  30.00  C148        C  \n",
       "890      0  370376   7.75   NaN        Q  "
      ]
     },
     "execution_count": 6,
     "metadata": {},
     "output_type": "execute_result"
    }
   ],
   "source": [
    "titanic_train.tail(2)"
   ]
  },
  {
   "cell_type": "markdown",
   "id": "ad3aa654-be4e-4b47-a1b8-89b6146ff441",
   "metadata": {},
   "source": [
    "El fichero contiene información sobre los pasajeros del Titanic. Las columnas contienen información de diferente tipo: tenemos datos numéricos como la edad o el precio del billete y también datos de tipo texto como el nombre o el camarote que ocupó el pasajero. Una columna muy importante que será la que usemos en nuestra investigación es la columna **Survived** que contiene 0 en el caso de pasajero fallecido o 1 si sobrevivió al hundimiento."
   ]
  },
  {
   "cell_type": "markdown",
   "id": "e5a7d669",
   "metadata": {},
   "source": [
    "#### Variable objetivo:\n",
    "\n",
    "\n",
    "Imprime los posible valores que puede tomar la variable *Survived*, asi como un diagrama de barras con la frecuencia de cada valor.\n",
    "¿Está balanceada la distribución?"
   ]
  },
  {
   "cell_type": "code",
   "execution_count": 7,
   "id": "f1433ac0",
   "metadata": {},
   "outputs": [
    {
     "name": "stdout",
     "output_type": "stream",
     "text": [
      "[0 1]\n"
     ]
    },
    {
     "data": {
      "text/plain": [
       "Survived\n",
       "0    0.616162\n",
       "1    0.383838\n",
       "Name: proportion, dtype: float64"
      ]
     },
     "execution_count": 7,
     "metadata": {},
     "output_type": "execute_result"
    }
   ],
   "source": [
    "print(titanic_train['Survived'].unique())\n",
    "titanic_train['Survived'].value_counts(normalize=True)"
   ]
  },
  {
   "cell_type": "code",
   "execution_count": 8,
   "id": "04dc94d9",
   "metadata": {},
   "outputs": [
    {
     "data": {
      "text/plain": [
       "Text(0.5, 1.0, 'Frecuencia de supervivientes en el Titanic')"
      ]
     },
     "execution_count": 8,
     "metadata": {},
     "output_type": "execute_result"
    },
    {
     "data": {
      "image/png": "[encoded data removed]",
      "text/plain": [
       "<Figure size 640x480 with 1 Axes>"
      ]
     },
     "metadata": {},
     "output_type": "display_data"
    }
   ],
   "source": [
    "\n",
    "# Gráfico de barras de conteo para la columna 'Survived'\n",
    "sns.countplot(x='Survived', data=titanic_train)\n",
    "\n",
    "# Añadir etiquetas y título\n",
    "plt.xlabel('Survived')\n",
    "plt.ylabel('Count')\n",
    "plt.title('Frecuencia de supervivientes en el Titanic')"
   ]
  },
  {
   "cell_type": "markdown",
   "id": "23964c64",
   "metadata": {},
   "source": [
    "Genera un gráfico por sectores donde representes la proporción de supervivientes / fallecidos entre el pasaje."
   ]
  },
  {
   "cell_type": "code",
   "execution_count": 9,
   "id": "163610a5",
   "metadata": {},
   "outputs": [
    {
     "data": {
      "image/png": "[encoded data removed]",
      "text/plain": [
       "<Figure size 640x480 with 1 Axes>"
      ]
     },
     "metadata": {},
     "output_type": "display_data"
    }
   ],
   "source": [
    "survivors = titanic_train['Survived'].sum()\n",
    "deceased  = titanic_train.shape[0] - survivors\n",
    "\n",
    "proportions = [survivors, deceased]\n",
    "\n",
    "# Create a pie chart\n",
    "plt.pie(\n",
    "    # using proportions\n",
    "    proportions,\n",
    "    \n",
    "    # with the labels being officer names\n",
    "    labels = ['Supervivientes', 'Fallecidos'],\n",
    "    \n",
    "    # with no shadows\n",
    "    shadow = False,\n",
    "    \n",
    "    # with colors\n",
    "    colors = ['blue','red'],\n",
    "    \n",
    "    # with one slide exploded out\n",
    "    explode = (0.15 , 0),\n",
    "    \n",
    "    # with the start angle at 90%\n",
    "    startangle = 90,\n",
    "    \n",
    "    # with the percent listed as a fraction\n",
    "    autopct = '%1.1f%%'\n",
    "    )\n",
    "\n",
    "# View the plot drop above\n",
    "plt.axis('equal')\n",
    "\n",
    "# Set labels\n",
    "plt.title(\"Proporcion Supervivientes en Titanic\")\n",
    "\n",
    "# View the plot\n",
    "plt.tight_layout()\n",
    "plt.show()"
   ]
  },
  {
   "cell_type": "markdown",
   "id": "564a5f74-8dff-476d-a0c6-a763e5358ce1",
   "metadata": {},
   "source": [
    "#### Distribución de variables numéricas:\n",
    "* Identifica las columnas numericas.\n",
    "* Muestra información estadística de esas variables numéricas.\n",
    "* Representa su distribución con histogramas, *stripplots*, diagramas de cajas o de violín. (Elige con la información que tienes que tipo de gráfica te dará más información)\n",
    "\n",
    "¿Las variables tienen una distribución normal o están sesgadas?\n",
    "¿Existen valores extremos (outliers)?"
   ]
  },
  {
   "cell_type": "code",
   "execution_count": 10,
   "id": "98bc2c37-3e32-4a7a-90cf-ec383e36db92",
   "metadata": {},
   "outputs": [
    {
     "data": {
      "text/html": [
       "<div>\n",
       "<style scoped>\n",
       "    .dataframe tbody tr th:only-of-type {\n",
       "        vertical-align: middle;\n",
       "    }\n",
       "\n",
       "    .dataframe tbody tr th {\n",
       "        vertical-align: top;\n",
       "    }\n",
       "\n",
       "    .dataframe thead th {\n",
       "        text-align: right;\n",
       "    }\n",
       "</style>\n",
       "<table border=\"1\" class=\"dataframe\">\n",
       "  <thead>\n",
       "    <tr style=\"text-align: right;\">\n",
       "      <th></th>\n",
       "      <th>PassengerId</th>\n",
       "      <th>Survived</th>\n",
       "      <th>Pclass</th>\n",
       "      <th>Age</th>\n",
       "      <th>SibSp</th>\n",
       "      <th>Parch</th>\n",
       "      <th>Fare</th>\n",
       "    </tr>\n",
       "  </thead>\n",
       "  <tbody>\n",
       "    <tr>\n",
       "      <th>count</th>\n",
       "      <td>891.000000</td>\n",
       "      <td>891.000000</td>\n",
       "      <td>891.000000</td>\n",
       "      <td>714.000000</td>\n",
       "      <td>891.000000</td>\n",
       "      <td>891.000000</td>\n",
       "      <td>891.000000</td>\n",
       "    </tr>\n",
       "    <tr>\n",
       "      <th>mean</th>\n",
       "      <td>446.000000</td>\n",
       "      <td>0.383838</td>\n",
       "      <td>2.308642</td>\n",
       "      <td>29.699118</td>\n",
       "      <td>0.523008</td>\n",
       "      <td>0.381594</td>\n",
       "      <td>32.204208</td>\n",
       "    </tr>\n",
       "    <tr>\n",
       "      <th>std</th>\n",
       "      <td>257.353842</td>\n",
       "      <td>0.486592</td>\n",
       "      <td>0.836071</td>\n",
       "      <td>14.526497</td>\n",
       "      <td>1.102743</td>\n",
       "      <td>0.806057</td>\n",
       "      <td>49.693429</td>\n",
       "    </tr>\n",
       "    <tr>\n",
       "      <th>min</th>\n",
       "      <td>1.000000</td>\n",
       "      <td>0.000000</td>\n",
       "      <td>1.000000</td>\n",
       "      <td>0.420000</td>\n",
       "      <td>0.000000</td>\n",
       "      <td>0.000000</td>\n",
       "      <td>0.000000</td>\n",
       "    </tr>\n",
       "    <tr>\n",
       "      <th>25%</th>\n",
       "      <td>223.500000</td>\n",
       "      <td>0.000000</td>\n",
       "      <td>2.000000</td>\n",
       "      <td>20.125000</td>\n",
       "      <td>0.000000</td>\n",
       "      <td>0.000000</td>\n",
       "      <td>7.910400</td>\n",
       "    </tr>\n",
       "    <tr>\n",
       "      <th>50%</th>\n",
       "      <td>446.000000</td>\n",
       "      <td>0.000000</td>\n",
       "      <td>3.000000</td>\n",
       "      <td>28.000000</td>\n",
       "      <td>0.000000</td>\n",
       "      <td>0.000000</td>\n",
       "      <td>14.454200</td>\n",
       "    </tr>\n",
       "    <tr>\n",
       "      <th>75%</th>\n",
       "      <td>668.500000</td>\n",
       "      <td>1.000000</td>\n",
       "      <td>3.000000</td>\n",
       "      <td>38.000000</td>\n",
       "      <td>1.000000</td>\n",
       "      <td>0.000000</td>\n",
       "      <td>31.000000</td>\n",
       "    </tr>\n",
       "    <tr>\n",
       "      <th>max</th>\n",
       "      <td>891.000000</td>\n",
       "      <td>1.000000</td>\n",
       "      <td>3.000000</td>\n",
       "      <td>80.000000</td>\n",
       "      <td>8.000000</td>\n",
       "      <td>6.000000</td>\n",
       "      <td>512.329200</td>\n",
       "    </tr>\n",
       "  </tbody>\n",
       "</table>\n",
       "</div>"
      ],
      "text/plain": [
       "       PassengerId    Survived      Pclass         Age       SibSp  \\\n",
       "count   891.000000  891.000000  891.000000  714.000000  891.000000   \n",
       "mean    446.000000    0.383838    2.308642   29.699118    0.523008   \n",
       "std     257.353842    0.486592    0.836071   14.526497    1.102743   \n",
       "min       1.000000    0.000000    1.000000    0.420000    0.000000   \n",
       "25%     223.500000    0.000000    2.000000   20.125000    0.000000   \n",
       "50%     446.000000    0.000000    3.000000   28.000000    0.000000   \n",
       "75%     668.500000    1.000000    3.000000   38.000000    1.000000   \n",
       "max     891.000000    1.000000    3.000000   80.000000    8.000000   \n",
       "\n",
       "            Parch        Fare  \n",
       "count  891.000000  891.000000  \n",
       "mean     0.381594   32.204208  \n",
       "std      0.806057   49.693429  \n",
       "min      0.000000    0.000000  \n",
       "25%      0.000000    7.910400  \n",
       "50%      0.000000   14.454200  \n",
       "75%      0.000000   31.000000  \n",
       "max      6.000000  512.329200  "
      ]
     },
     "execution_count": 10,
     "metadata": {},
     "output_type": "execute_result"
    }
   ],
   "source": [
    "columnas_numericas = titanic_train.columns[titanic_train.dtypes != \"object\"]\n",
    "titanic_train[columnas_numericas].describe()"
   ]
  },
  {
   "cell_type": "code",
   "execution_count": 11,
   "id": "fa00d530",
   "metadata": {},
   "outputs": [
    {
     "data": {
      "text/plain": [
       "array([[<Axes: title={'center': 'PassengerId'}>,\n",
       "        <Axes: title={'center': 'Survived'}>,\n",
       "        <Axes: title={'center': 'Pclass'}>],\n",
       "       [<Axes: title={'center': 'Age'}>,\n",
       "        <Axes: title={'center': 'SibSp'}>,\n",
       "        <Axes: title={'center': 'Parch'}>],\n",
       "       [<Axes: title={'center': 'Fare'}>, <Axes: >, <Axes: >]],\n",
       "      dtype=object)"
      ]
     },
     "execution_count": 11,
     "metadata": {},
     "output_type": "execute_result"
    },
    {
     "data": {
      "image/png": "[encoded data removed]",
      "text/plain": [
       "<Figure size 1200x800 with 9 Axes>"
      ]
     },
     "metadata": {},
     "output_type": "display_data"
    }
   ],
   "source": [
    "titanic_train[columnas_numericas].hist(bins=30, figsize=(12, 8))"
   ]
  },
  {
   "cell_type": "markdown",
   "id": "897d2540",
   "metadata": {},
   "source": [
    "#### Distribución de variables categóricas:\n",
    "* Identifica las columnas numericas.\n",
    "* Muestra información de esas variables numéricas.\n",
    "    * ¿qué valores pueden tomar?\n",
    "    * ¿cuál es la clase dominante? ¿Con qué frecuencia?\n",
    "* Representa su distribución con *barplots* o *counterplots*  (Elige con la información que tienes qué variables tiene sentido representar)"
   ]
  },
  {
   "cell_type": "code",
   "execution_count": 12,
   "id": "d17260a1",
   "metadata": {},
   "outputs": [],
   "source": [
    "columnas_categoricas = titanic_train.columns[titanic_train.dtypes == \"object\"]"
   ]
  },
  {
   "cell_type": "code",
   "execution_count": 13,
   "id": "21e977bc",
   "metadata": {},
   "outputs": [
    {
     "data": {
      "text/html": [
       "<div>\n",
       "<style scoped>\n",
       "    .dataframe tbody tr th:only-of-type {\n",
       "        vertical-align: middle;\n",
       "    }\n",
       "\n",
       "    .dataframe tbody tr th {\n",
       "        vertical-align: top;\n",
       "    }\n",
       "\n",
       "    .dataframe thead th {\n",
       "        text-align: right;\n",
       "    }\n",
       "</style>\n",
       "<table border=\"1\" class=\"dataframe\">\n",
       "  <thead>\n",
       "    <tr style=\"text-align: right;\">\n",
       "      <th></th>\n",
       "      <th>Name</th>\n",
       "      <th>Sex</th>\n",
       "      <th>Ticket</th>\n",
       "      <th>Cabin</th>\n",
       "      <th>Embarked</th>\n",
       "    </tr>\n",
       "  </thead>\n",
       "  <tbody>\n",
       "    <tr>\n",
       "      <th>count</th>\n",
       "      <td>891</td>\n",
       "      <td>891</td>\n",
       "      <td>891</td>\n",
       "      <td>204</td>\n",
       "      <td>889</td>\n",
       "    </tr>\n",
       "    <tr>\n",
       "      <th>unique</th>\n",
       "      <td>891</td>\n",
       "      <td>2</td>\n",
       "      <td>681</td>\n",
       "      <td>147</td>\n",
       "      <td>3</td>\n",
       "    </tr>\n",
       "    <tr>\n",
       "      <th>top</th>\n",
       "      <td>Braund, Mr. Owen Harris</td>\n",
       "      <td>male</td>\n",
       "      <td>347082</td>\n",
       "      <td>G6</td>\n",
       "      <td>S</td>\n",
       "    </tr>\n",
       "    <tr>\n",
       "      <th>freq</th>\n",
       "      <td>1</td>\n",
       "      <td>577</td>\n",
       "      <td>7</td>\n",
       "      <td>4</td>\n",
       "      <td>644</td>\n",
       "    </tr>\n",
       "  </tbody>\n",
       "</table>\n",
       "</div>"
      ],
      "text/plain": [
       "                           Name   Sex  Ticket Cabin Embarked\n",
       "count                       891   891     891   204      889\n",
       "unique                      891     2     681   147        3\n",
       "top     Braund, Mr. Owen Harris  male  347082    G6        S\n",
       "freq                          1   577       7     4      644"
      ]
     },
     "execution_count": 13,
     "metadata": {},
     "output_type": "execute_result"
    }
   ],
   "source": [
    "titanic_train[columnas_categoricas].describe()"
   ]
  },
  {
   "cell_type": "code",
   "execution_count": 14,
   "id": "e5387eb2",
   "metadata": {},
   "outputs": [
    {
     "data": {
      "image/png": "[encoded data removed]",
      "text/plain": [
       "<Figure size 1200x500 with 2 Axes>"
      ]
     },
     "metadata": {},
     "output_type": "display_data"
    }
   ],
   "source": [
    "fig, axes = plt.subplots(1, 2, figsize=(12, 5))\n",
    "\n",
    "# Gráfico para 'Sex'\n",
    "sns.countplot(x='Sex', data=titanic_train, ax=axes[0])\n",
    "axes[0].set_title('Frecuencia por Género')\n",
    "\n",
    "# Gráfico para 'Embarked'\n",
    "sns.countplot(x='Embarked', data=titanic_train, ax=axes[1])\n",
    "axes[1].set_title('Frecuencia por Puerto de Embarque')\n",
    "\n",
    "# Mostrar todos los gráficos\n",
    "plt.tight_layout()\n",
    "plt.show()"
   ]
  },
  {
   "cell_type": "markdown",
   "id": "43ec6b4b",
   "metadata": {},
   "source": [
    "#### Relaciones entre variables\n",
    "Examina las correlaciones entre las variables numéricas (Fare, Age, SibSp, Parch), utilizando una matriz de correlación y un heatmap."
   ]
  },
  {
   "cell_type": "code",
   "execution_count": 15,
   "id": "d1a1d225",
   "metadata": {},
   "outputs": [
    {
     "data": {
      "text/plain": [
       "<Axes: >"
      ]
     },
     "execution_count": 15,
     "metadata": {},
     "output_type": "execute_result"
    },
    {
     "data": {
      "image/png": "[encoded data removed]",
      "text/plain": [
       "<Figure size 640x480 with 2 Axes>"
      ]
     },
     "metadata": {},
     "output_type": "display_data"
    }
   ],
   "source": [
    "sns.heatmap(titanic_train[columnas_numericas].corr(), annot=True, cmap=\"coolwarm\")"
   ]
  },
  {
   "cell_type": "markdown",
   "id": "e3301a55",
   "metadata": {},
   "source": [
    "Relaciona las características y la variable objetivo: Analiza cómo las características afectan la supervivencia.\n",
    "* Repite el diagrama de barras\n",
    "```python \n",
    "# Gráfico de barras de conteo para la columna 'Survived'\n",
    "sns.countplot(x='Survived', data=titanic_train)\n",
    "```\n",
    "Añadiendo el argumento `hue='Sex'` para ver como esán relacionadas"
   ]
  },
  {
   "cell_type": "code",
   "execution_count": 16,
   "id": "11ca5fe5",
   "metadata": {},
   "outputs": [
    {
     "data": {
      "image/png": "[encoded data removed]",
      "text/plain": [
       "<Figure size 640x480 with 1 Axes>"
      ]
     },
     "metadata": {},
     "output_type": "display_data"
    }
   ],
   "source": [
    "# Gráfico de frecuencia de 'Sex' separado por 'Survived'\n",
    "sns.countplot(x='Survived', hue='Sex', data=titanic_train)\n",
    "plt.title('Supervivencia por Género')\n",
    "plt.xlabel('Supervivencia')\n",
    "plt.ylabel('Frecuencia')\n",
    "plt.show()"
   ]
  },
  {
   "cell_type": "markdown",
   "id": "b15ac579",
   "metadata": {},
   "source": [
    "* Agrupa los datos por clase *Pclass* y calcula la media de la columna *Survived* en cada grupo."
   ]
  },
  {
   "cell_type": "code",
   "execution_count": 17,
   "id": "397354a1",
   "metadata": {},
   "outputs": [
    {
     "data": {
      "text/plain": [
       "Pclass\n",
       "1    0.629630\n",
       "2    0.472826\n",
       "3    0.242363\n",
       "Name: Survived, dtype: float64"
      ]
     },
     "execution_count": 17,
     "metadata": {},
     "output_type": "execute_result"
    }
   ],
   "source": [
    "# Agrupar por 'Pclass' y calcular la media de 'Survived'\n",
    "supervivencia_por_clase = titanic_train.groupby('Pclass')['Survived'].mean()\n",
    "supervivencia_por_clase"
   ]
  },
  {
   "cell_type": "markdown",
   "id": "eb780025",
   "metadata": {},
   "source": [
    "* Crear un *violinplot* o un *boxplot* para comparar la distribución de edad entre los supervivientes y no supervivientes"
   ]
  },
  {
   "cell_type": "code",
   "execution_count": 18,
   "id": "20fa12bd",
   "metadata": {},
   "outputs": [
    {
     "data": {
      "image/png": "[encoded data removed]",
      "text/plain": [
       "<Figure size 1000x600 with 1 Axes>"
      ]
     },
     "metadata": {},
     "output_type": "display_data"
    }
   ],
   "source": [
    "# Crear un violin plot para comparar la distribución de edad entre los sobrevivientes y no sobrevivientes\n",
    "plt.figure(figsize=(10, 6))\n",
    "sns.boxplot(x='Survived', y='Age', data=titanic_train)\n",
    "\n",
    "# Añadir título y etiquetas\n",
    "plt.title('Distribución de la Edad por Supervivencia')\n",
    "plt.xlabel('Supervivencia (0 = No, 1 = Sí)')\n",
    "plt.ylabel('Edad')\n",
    "\n",
    "# Mostrar el gráfico\n",
    "plt.show()"
   ]
  },
  {
   "cell_type": "markdown",
   "id": "aec9d847",
   "metadata": {},
   "source": [
    "* Estudia la supervivencia según el puerto de embarque. Puedes usar la media por grupo o un diagrama de barras distinguiendo por embarque."
   ]
  },
  {
   "cell_type": "code",
   "execution_count": 19,
   "id": "f2619326",
   "metadata": {},
   "outputs": [
    {
     "name": "stdout",
     "output_type": "stream",
     "text": [
      "Embarked\n",
      "C    0.553571\n",
      "Q    0.389610\n",
      "S    0.336957\n",
      "Name: Survived, dtype: float64\n"
     ]
    }
   ],
   "source": [
    "# Agrupar por 'Embarked' y calcular la media de 'Survived'\n",
    "supervivencia_por_puerto = titanic_train.groupby('Embarked')['Survived'].mean()\n",
    "print(supervivencia_por_puerto)"
   ]
  },
  {
   "cell_type": "markdown",
   "id": "73f5bcbd",
   "metadata": {},
   "source": [
    "Estudiaremos ahora la relación entre el puerto de embarque y la sección del barco en que estaba alojado cada pasajero.\n",
    "Primero vamos a extraer la letra inicial de la columna Cabin para representar la sección del barco, ya que las letras indican diferentes áreas del barco.\n",
    "Después creamos una tabla para ver la distribución de los pasajeros por puerto de embarque y la sección del barco. Para no modificar el *DataFrame* original, elimino la columna creada."
   ]
  },
  {
   "cell_type": "code",
   "execution_count": 20,
   "id": "74beca76",
   "metadata": {},
   "outputs": [
    {
     "name": "stdout",
     "output_type": "stream",
     "text": [
      "Cabin_Section  A   B   C   D   E   F  G  T\n",
      "Embarked                                  \n",
      "C              7  22  21  13   5   1  0  0\n",
      "Q              0   0   2   0   1   1  0  0\n",
      "S              8  23  36  20  26  11  4  1\n"
     ]
    }
   ],
   "source": [
    "# Extraer la letra inicial de la cabina\n",
    "titanic_train['Cabin_Section'] = titanic_train['Cabin'].str[0]\n",
    "\n",
    "# Tabla de contingencia entre Embarked y Cabin_Section\n",
    "table = pd.crosstab(titanic_train['Embarked'], titanic_train['Cabin_Section'])\n",
    "print(table)\n",
    "titanic_train.drop(['Cabin_Section'],axis=1,inplace=True)"
   ]
  },
  {
   "cell_type": "markdown",
   "id": "ffbbbb62",
   "metadata": {},
   "source": [
    "# Preparación de las variables de entrada al modelo."
   ]
  },
  {
   "cell_type": "markdown",
   "id": "72663d11-f88b-4250-a241-a6af9bf64d2d",
   "metadata": {},
   "source": [
    "Después de esta primera inspección podemos hacernos una serie de preguntas:\n",
    "- ¿Son todas las variables necesarias para el análisis que queremos hacer?\n",
    "- ¿Deberíamos modificar la información que nos dan?\n",
    "- ¿Hay valores anómalos que puedan estropear los cálculos?\n",
    "- ¿Debería crear nuevas variables a partir de las existentes?"
   ]
  },
  {
   "cell_type": "markdown",
   "id": "0135dfdb-0a9d-4c64-89ec-0ce0d1f7cb59",
   "metadata": {},
   "source": [
    "### Entrenando el modelo.\n",
    "\n",
    "El propósito de este análisis es determinar si existe algún patrón que podamos encontrar a la hora de determinar los factores más relevantes en la supervivencia o no de los pasajeros del Titanic.\n",
    "\n",
    "Para ello vamos a mantener el *DataFrame* *titanic_train* como está pero vamos a generar uno nuevo que iremos modificando antes de emplearlo para entrenar el modelo.\n",
    "Tendrás que decidir qué hacer con algunas columnas: ¿eliminarlas?, ¿mantenerlas?, ¿modificarlas? y finalmente tus decisiones influirán en cómo de bien predice el modelo. \n",
    "\n",
    "El modelo que vamos a emplear para clasificar entre *Supervivientes* o *Fallecidos* será un **Random Forest**. Ya veremos más adelante en qué consiste.\n",
    "\n",
    "Lo primero que haremos será copiar el *DataFrame* *titanic_train* en otro de nombre *titanic_intro*. \n",
    "Visualizaremos informacion en *titanic_train* y los cambios que decidas hacer se reflejarán en *titanic_intro* "
   ]
  },
  {
   "cell_type": "code",
   "execution_count": null,
   "id": "301cc4b3",
   "metadata": {},
   "outputs": [],
   "source": []
  },
  {
   "cell_type": "markdown",
   "id": "b7f5b360",
   "metadata": {},
   "source": [
    "#### Columna *PassengerId*\n",
    "\n",
    "Si estudiamos por columnas la primera que nos encontramos es *PassengerId*. A priori esta columna es innecesaria ya que no es más que un contador que ya tenemos en los indices por defecto (con la particularidad de que los índices empiezan en 0 como es habitual en python). \n",
    "\n",
    "Convierte la columna *PassengerId* en el índice del *DataFrame* *titanic_intro*. (Aquí no puedes elegir)"
   ]
  },
  {
   "cell_type": "code",
   "execution_count": null,
   "id": "3f317341-a7f3-4402-af24-1b30a6333e5a",
   "metadata": {},
   "outputs": [],
   "source": []
  },
  {
   "cell_type": "markdown",
   "id": "dd590641-81d2-4f02-b1b1-a8ed3084b1ad",
   "metadata": {},
   "source": [
    "#### Columna *Name*\n",
    "\n",
    "Contiene una cadena de texto que identifica de forma unívoca identifica a los pasajeros. En ese sentido hace la misma función que el *PassengerId*. Vamos a imprimir unos cuantos una vez ordenados alfabeticamente.\n",
    "\n",
    "Imprime los 10 primeros nombres de pasajeros del *DataFrame* *titanic_train* ordenados alfabéticamente."
   ]
  },
  {
   "cell_type": "code",
   "execution_count": null,
   "id": "65413d0b-da97-4277-a683-2895b8e2b52a",
   "metadata": {},
   "outputs": [],
   "source": []
  },
  {
   "cell_type": "markdown",
   "id": "1a8c645f",
   "metadata": {},
   "source": [
    "Ahora decide si eliminas o no la columna *Name* del *DataFrame* *titanic_intro* para el posterior análisis. Si quieres eliminarla hazlo en la celda siguiente."
   ]
  },
  {
   "cell_type": "code",
   "execution_count": null,
   "id": "d7666417",
   "metadata": {},
   "outputs": [],
   "source": []
  },
  {
   "cell_type": "markdown",
   "id": "c52d7c08",
   "metadata": {},
   "source": [
    "#### Columna *Ticket*\n",
    "\n",
    "Imprime información de la variable *Ticket*. ¿De qué tipo es? ¿Te parece relevante? ¿Hay algún tipo de información que se pueda extraer?\n",
    "Escribe los primeros 10 valores. Hay algunos numéricos y otros que empiezan por letras. Imprime los que empiezan por letra.\n",
    "\n",
    "Para filtrar los que empiezan por letra puedes usar:\n",
    "```python\n",
    "# Filtrar aquellos tickets que empiezan con una letra\n",
    "tickets_con_letra = titanic_train[titanic_train['Ticket'].str[0].str.isalpha()]\n",
    "\n",
    "# Mostrar los resultados\n",
    "print(tickets_con_letra[['Ticket']])\n",
    "```\n"
   ]
  },
  {
   "cell_type": "code",
   "execution_count": 21,
   "id": "1e34f860",
   "metadata": {},
   "outputs": [],
   "source": [
    "# Informacion de Ticket"
   ]
  },
  {
   "cell_type": "code",
   "execution_count": 22,
   "id": "f56814b1",
   "metadata": {},
   "outputs": [],
   "source": [
    "# Extrae los primeros 10 registros"
   ]
  },
  {
   "cell_type": "code",
   "execution_count": 23,
   "id": "f9ca2624",
   "metadata": {},
   "outputs": [],
   "source": [
    "# Filtrar aquellos tickets que empiezan con una letra\n",
    "\n",
    "\n",
    "# Mostrar los resultados\n"
   ]
  },
  {
   "cell_type": "markdown",
   "id": "c43dff4d",
   "metadata": {},
   "source": [
    "Ahora decide si eliminas o no la columna *Ticket* del *DataFrame* *titanic_intro* para el posterior análisis. Si quieres eliminarla hazlo en la celda siguiente."
   ]
  },
  {
   "cell_type": "code",
   "execution_count": null,
   "id": "01684dfb",
   "metadata": {},
   "outputs": [],
   "source": []
  },
  {
   "cell_type": "markdown",
   "id": "2e2c2369-493e-48db-80d3-56efd96fa84c",
   "metadata": {},
   "source": [
    "#### Columna *Cabin*\n",
    "\n",
    "Imprime información de la variable *Cabin* camarote. ¿De qué tipo es? ¿Te parece relevante? ¿Hay algún tipo de información que se pueda extraer?"
   ]
  },
  {
   "cell_type": "code",
   "execution_count": null,
   "id": "e8252f43-cf3e-4a30-b625-12ba32ec2818",
   "metadata": {},
   "outputs": [],
   "source": []
  },
  {
   "cell_type": "markdown",
   "id": "2b17939f",
   "metadata": {},
   "source": [
    "Habrás detectado que falta esa columna para la mayoría de los pasajeros. Vamos a generar un índice lógico para seleccionar aquellos pasajeros que **si** tienen información de su camarote."
   ]
  },
  {
   "cell_type": "code",
   "execution_count": null,
   "id": "49acb1f0-e0ef-475a-ad90-ce3f2fbc32b9",
   "metadata": {},
   "outputs": [],
   "source": []
  },
  {
   "cell_type": "markdown",
   "id": "71bb5317-4727-461e-a30b-4c49ddd48656",
   "metadata": {},
   "source": [
    "Vemos que el identificador de cabina tiene una letra que sugiere una división de los camarotes por zonas dentro del barco. Quizá podamos usar la información disponible para detectar mayor mortalidad o supervivencia de ciertas secciones del Titanic.\n",
    "Ahora te toca elegir. Hay dos posibilidades:\n",
    "* Si no crees que la columna *Cabin* aporta suficiente valor predictivo debido a la alta cantidad de valores faltantes, podrías eliminarla del conjunto de datos *titanic_intro*.\n",
    "\n",
    "* Si decides mantener la columna, necesitarás lidiar con los valores faltantes.Puedes rellenar los valores faltantes con una nueva categoría como 'Desconocido', lo que indicaría que no se tiene información sobre la cabina. Esto permite que el modelo aprenda si la falta de información tiene algún impacto."
   ]
  },
  {
   "cell_type": "markdown",
   "id": "3b23e19d",
   "metadata": {},
   "source": [
    "Si has decidido eliminarla hazlo en la celda de abajo y saltate las siguientes celdas hasta llegar a la columna *Pclass*."
   ]
  },
  {
   "cell_type": "code",
   "execution_count": null,
   "id": "5bb5c0f3",
   "metadata": {},
   "outputs": [],
   "source": []
  },
  {
   "cell_type": "markdown",
   "id": "2dc29120",
   "metadata": {},
   "source": [
    "Si has decidido mantenerla vamos a modificar la información que contiene para que solo almacene la letra del camarote que nos indica la sección del barco en que se encuentra y nos permitirá agrupar a los pasajeros de forma más eficiente. \n",
    "\n",
    "*Podrían hacerse más cosas. Si imprimimos los valores únicos en esa columna*\n",
    "```python\n",
    "titanic_train['Cabin'].unique()\n",
    "```\n",
    "*observamos que algunos pasajeros tienen varios camarotes. Podemos pensar que en el caso de pertenecer a una misma familia solo uno de ellos adquirió los camarotes. Quizá a partir de la variable *Name* podriamos imputar el mismo camarote o al menos la misma sección a los familiares. Pero esto es demasiado complicado para este primer análisis*"
   ]
  },
  {
   "cell_type": "markdown",
   "id": "664d33ea",
   "metadata": {},
   "source": [
    "Primero extraemos modificamos la columna *Cabin* en *titanic_intro* guardando en ella solo la primera letra de esa columna en *titanic_train*."
   ]
  },
  {
   "cell_type": "code",
   "execution_count": null,
   "id": "2259a3d4",
   "metadata": {},
   "outputs": [],
   "source": []
  },
  {
   "cell_type": "markdown",
   "id": "42680c4e",
   "metadata": {},
   "source": [
    "Por último sustituimos los valores faltantes *NaN* por 'Desconocido'"
   ]
  },
  {
   "cell_type": "code",
   "execution_count": null,
   "id": "ac92fd60",
   "metadata": {},
   "outputs": [],
   "source": []
  },
  {
   "cell_type": "markdown",
   "id": "fc5fea96",
   "metadata": {},
   "source": [
    "Ahora hay que codificarla de forma numérica para poder usarla en el modelo.\n",
    "Vamos a usar **One-hot Encoding** que, aunque aumenta el número de columnas, no establece relaciones de orden artificiales.\n",
    "La forma más sencilla es mediante:\n",
    "```python \n",
    "titanic_intro = pd.get_dummies(titanic_intro, columns=['Cabin'])\n",
    "```"
   ]
  },
  {
   "cell_type": "code",
   "execution_count": null,
   "id": "9ccbb450",
   "metadata": {},
   "outputs": [],
   "source": []
  },
  {
   "cell_type": "markdown",
   "id": "c9162326",
   "metadata": {},
   "source": [
    "#### Columna *Pclass*\n",
    "\n",
    "La información de *Pclass* está codificada en un entero que puede tomar valores 1, 2, o 3 que hace referencia a primera, segunda o tercera clase. El problema de usar variables numéricas en un modelo de aprendizaje es que, este, puede inferir propiedades de los valores numéricos que no se corresponden con la realidad. Si pensamos en sueldo todos tenemos claro que 1000 euros está más cerca de 1200 euros que de 3800 euros. Sin embargo ¿Podemos establecer una relación de orden entre \"melón\", \"caleidoscopio\" y \"chiste\"?.\n",
    "\n",
    "¿Es el caso de la clase en el pasaje del Titanic? ¿Deberíamos considerar la variable clase como una variable categórica y codificarla como un objeto?"
   ]
  },
  {
   "cell_type": "markdown",
   "id": "c6736c52",
   "metadata": {},
   "source": [
    "* Si crees que tal y como está es correcto para a la celda asociada a la columna *Fare*.\n",
    "* Si crees que es preferible codificarla como un objeto modifica los valores de la columna Pclass sustituyendo '1' por 'Primera', '2' por 'Segunda' y '3' por 'Tercera'. De esta forma la información de la clase será categórica y no numérica y no se crearán relaciones de orden no deseadas. Posteriormente habrá que codificarla usando **One-hot Encoding**"
   ]
  },
  {
   "cell_type": "markdown",
   "id": "a365522d",
   "metadata": {},
   "source": [
    "Sustituye los valores '1' por 'Primera', '2' por 'Segunda' y '3' por 'Tercera' usando:\n",
    "\n",
    "```python\n",
    "titanic_intro['Pclass'] = titanic_train['Pclass'].replace(to_replace= {1:'Primera' ,2: 'Segunda',3: 'Tercera'})\n",
    "```\n",
    "A continuación codifica la nueva columna mediante **One-hot Encoding**\n",
    "```python \n",
    "titanic_intro = pd.get_dummies(titanic_intro, columns=['Pclass'])\n",
    "```"
   ]
  },
  {
   "cell_type": "code",
   "execution_count": null,
   "id": "a7f08f49",
   "metadata": {},
   "outputs": [],
   "source": []
  },
  {
   "cell_type": "markdown",
   "id": "3c61ad57",
   "metadata": {},
   "source": [
    "#### Columna *Fare*\n",
    "\n",
    "Imprime información de la variable *Fare* precio del pasaje en el *DataFrame* *titanic_train*. ¿De qué tipo es? ¿Te parece relevante? ¿Hay algún tipo de información que se pueda extraer?\n"
   ]
  },
  {
   "cell_type": "code",
   "execution_count": null,
   "id": "08705e47",
   "metadata": {},
   "outputs": [],
   "source": []
  },
  {
   "cell_type": "markdown",
   "id": "6cb74cd7",
   "metadata": {},
   "source": [
    "Representa los datos en la columna *Fare* en un diagramas de cajas *boxplot*. "
   ]
  },
  {
   "cell_type": "code",
   "execution_count": null,
   "id": "ac536e64",
   "metadata": {},
   "outputs": [],
   "source": []
  },
  {
   "cell_type": "markdown",
   "id": "3950d8c5",
   "metadata": {},
   "source": [
    "La mediana es 14.45 el primer cuartil Q1 es 7.91 y el tercer cuartil Q3 es 31.0. Por tanto el rango intercuartil es:\n",
    "\n",
    "$$ \\text{IQR} = \\text{Q3}-\\text{Q1} = 23.09.$$\n",
    "\n",
    "Asi que vamos a considerar atípicos los valores que estén alejados de Q1 (por debajo) y Q3 (por encima) una distancia mayor que $1.5  \\times \\text{IQR}$ . \n",
    "En el rango inferior no hay valores atípicos. En el rango superior consideraremos atípicos todos los valores mayores que:\n",
    "$$ \\text{Q3} +1.5  \\times\n",
    "  \\text{IQR} = 65.63.$$"
   ]
  },
  {
   "cell_type": "markdown",
   "id": "3d69c1ab",
   "metadata": {},
   "source": [
    "¿Qué hacemos con estos datos anómalos?\n",
    "Una vez más tienes dos opciones:\n",
    "\n",
    "* Nada. El modelo de aprendizaje automático que vamos a emplear, **Random Forest**, se basa en **Árboles de decisión** y estos son poco sensibles a los *Outliers*. Así que dejamos el *DataFrame* como está y pasamos a la celda correspondiente a la edad *Age*.\n",
    "\n",
    "* Escalarlos. Aunque estos modelos son más robustos frente a outliers que otros métodos, sin embargo, sigue siendo recomendable tratar los valores atípicos para evitar efectos no deseados. Usaremos un RobustScaler porque es resistente a los valores atípicos y permitirá que Fare sea tratado adecuadamente en el modelo.\n"
   ]
  },
  {
   "cell_type": "markdown",
   "id": "39df1f34",
   "metadata": {},
   "source": [
    "Si tu opción es escalarlos simplemente ejecuta la siguiente celda"
   ]
  },
  {
   "cell_type": "code",
   "execution_count": 24,
   "id": "780c4d86",
   "metadata": {},
   "outputs": [
    {
     "ename": "ModuleNotFoundError",
     "evalue": "No module named 'sklearn'",
     "output_type": "error",
     "traceback": [
      "\u001b[31m---------------------------------------------------------------------------\u001b[39m",
      "\u001b[31mModuleNotFoundError\u001b[39m                       Traceback (most recent call last)",
      "\u001b[36mCell\u001b[39m\u001b[36m \u001b[39m\u001b[32mIn[24]\u001b[39m\u001b[32m, line 1\u001b[39m\n\u001b[32m----> \u001b[39m\u001b[32m1\u001b[39m \u001b[38;5;28;01mfrom\u001b[39;00m\u001b[38;5;250m \u001b[39m\u001b[34;01msklearn\u001b[39;00m\u001b[34;01m.\u001b[39;00m\u001b[34;01mpreprocessing\u001b[39;00m\u001b[38;5;250m \u001b[39m\u001b[38;5;28;01mimport\u001b[39;00m RobustScaler\n\u001b[32m      3\u001b[39m scaler = RobustScaler()\n\u001b[32m      4\u001b[39m titanic_intro[\u001b[33m'\u001b[39m\u001b[33mFare\u001b[39m\u001b[33m'\u001b[39m] = scaler.fit_transform(titanic_train[[\u001b[33m'\u001b[39m\u001b[33mFare\u001b[39m\u001b[33m'\u001b[39m]])\n",
      "\u001b[31mModuleNotFoundError\u001b[39m: No module named 'sklearn'"
     ]
    }
   ],
   "source": [
    "from sklearn.preprocessing import RobustScaler\n",
    "\n",
    "scaler = RobustScaler()\n",
    "titanic_intro['Fare'] = scaler.fit_transform(titanic_train[['Fare']])\n",
    "titanic_intro"
   ]
  },
  {
   "cell_type": "markdown",
   "id": "fa49a579",
   "metadata": {},
   "source": [
    "#### Columna *Age*\n",
    "\n",
    "Recuerda la información obtenida de la variable *Age* edad en el *DataFrame* *titanic_train*. ¿De qué tipo es? ¿Te parece relevante? ¿Tiene datos faltantes? ¿anómalos?"
   ]
  },
  {
   "cell_type": "code",
   "execution_count": null,
   "id": "3234809e",
   "metadata": {},
   "outputs": [],
   "source": []
  },
  {
   "cell_type": "markdown",
   "id": "7bc9ee15",
   "metadata": {},
   "source": [
    "Cuando inspeccionamos por primera vez los datos destacamos que la columna *Age*, con la edad de cada pasajero, tenía 714 registros y por tanto de 177 pasajeros se desconoce su edad.\n",
    "\n",
    "¿Qué hacer con los valores nulos *NaN*?\n",
    "Hay diferentes alternativas, en ocasiones podemos obviarlos eliminando el registro completo.\n",
    "También podemos darles un valor de compromiso, la media o la mediana de los datos conocidos si son numéricos, o crear una categoría nueva *Desconocido* si la variable en cuestión es categórica.\n",
    "Podemos incluso separar los datos en dos conjuntos sobre los que hacer análisis de forma independiente.\n",
    "\n",
    "¿Que vamos a hacer con la columna *Age*?\n",
    "De nuevo dos opciones:\n",
    "* Eliminarla. Cuando vimos la relación entre la supervivencia y la edad vimos que la distribución de las edades entre los supervivientes era muy similar a la de los fallecidos. Parece ser que en este caso no aplicó lo de *los niños primero*. Como no parece relevante la elimino de mi análisis y un problema menos. Si esta es tu elección elimina la columna *Age* edad de *titanic_intro* y después salta a la celda *Sex*."
   ]
  },
  {
   "cell_type": "code",
   "execution_count": null,
   "id": "1a7eab11",
   "metadata": {},
   "outputs": [],
   "source": []
  },
  {
   "cell_type": "markdown",
   "id": "0f783bac",
   "metadata": {},
   "source": [
    "* Imputar algún valor a los datos faltantes y mantenerla en el análisis. Puede haber relaciones entre variables que se me estén escapando y no voy a perder la información de la edad. Si está es tu decisión sigue con las celdas siguientes.\n",
    "\n",
    "Veamos la distribución de edades en el *DataFrame* *titanic_train* mediante un histograma."
   ]
  },
  {
   "cell_type": "code",
   "execution_count": null,
   "id": "e12bfee7",
   "metadata": {},
   "outputs": [],
   "source": []
  },
  {
   "cell_type": "markdown",
   "id": "2866c2de",
   "metadata": {},
   "source": [
    "La elección de cómo imputar los valores faltantes en la columna *Age* del conjunto de datos del Titanic depende de la distribución de los datos y del impacto que los valores atípicos.\n",
    "* Si la distribución tiene una alta asimetría o outliers (como personas muy jóvenes o ancianas en el Titanic), la media puede verse afectada por estos valores extremos, lo que podría hacer que el valor imputado no sea representativo de la mayoría de los datos.\n",
    "* La mediana es más robusta frente a los valores atípicos y es una mejor opción si la distribución es asimétrica o tiene outliers. La mediana divide los datos en dos mitades, por lo que no se ve afectada por valores extremadamente altos o bajos.\n",
    "\n",
    "Usaremos la mediana."
   ]
  },
  {
   "cell_type": "code",
   "execution_count": null,
   "id": "5c826d14",
   "metadata": {},
   "outputs": [],
   "source": []
  },
  {
   "cell_type": "markdown",
   "id": "105a8a82",
   "metadata": {},
   "source": [
    "#### Columna *Sex*\n",
    "\n",
    "Recuerda la información obtenida de la variable *Sex* edad en el *DataFrame* *titanic_train*. ¿De qué tipo es? ¿Te parece relevante? ¿Tiene datos faltantes? ¿anómalos?"
   ]
  },
  {
   "cell_type": "markdown",
   "id": "9f6ad1c1",
   "metadata": {},
   "source": [
    "Esta columna no tiene discusión posible. Hemos visto que es muy relevante en la clasificación así que la mantenemos.\n",
    "Lo único necesario es modificarla para cambiar los valores que almacena y convertirlos en enteros. "
   ]
  },
  {
   "cell_type": "code",
   "execution_count": null,
   "id": "2e820cf7",
   "metadata": {},
   "outputs": [],
   "source": []
  },
  {
   "cell_type": "markdown",
   "id": "d0d9f906",
   "metadata": {},
   "source": [
    "#### Columnas *Parch* y *SibSp*\n",
    "\n",
    "El fichero del Titanic contiene información del número de hermanos, marido o esposa en la columna *SibSp* y la de progenitores y descendientes en *Parch*\n",
    "Por curiosidad veamos aquellos pasajeros con más familiares a bordo.\n"
   ]
  },
  {
   "cell_type": "code",
   "execution_count": null,
   "id": "e8878935",
   "metadata": {},
   "outputs": [],
   "source": [
    "max_familiares = max(titanic_train['Parch']+titanic_train['SibSp'])\n",
    "titanic_train[titanic_train['Parch']+titanic_train['SibSp']==max_familiares]"
   ]
  },
  {
   "cell_type": "markdown",
   "id": "58bfe9cf",
   "metadata": {},
   "source": [
    "Una familia de al menos 10 miembros (solo muestra 7 pero si sumamos SibSp + Parch tenemos 10) de la que en el conjunto de datos de test tenemos 7 probablemente hermanos. \n",
    "Todos ellos iban en tercera clase aunque el precio pagado por el pasaje está por encima del valor que delimita los valores atípicos 65.63 ¿Hay algo más que te llame la atención de estos pasajeros?"
   ]
  },
  {
   "cell_type": "markdown",
   "id": "b1583c88",
   "metadata": {},
   "source": [
    "Para estas dos variables hay dos posibilidades de nuevo:\n",
    "* Dejarlas tal cual. Por lo visto en el ejemplo anterior tiene pinta de que existe relación entre el valor de esas columnas y la supervivencia. Si esa es tu elección pasa a las celdas correspondientes a *Embarked*\n",
    "\n",
    "* Combinar esas dos columnas en una única de nombre *Family* que indique cuantos familiares tenía a bordo cada pasajero. La información del número de hermanos, marido o esposa que contiene *SibSp* y la de progenitores y descendientes *Parch* resulta por separado poco relevante. Quiza si pudiesemos discernir entre progenitores y descendientes podriamos aproximar la edad de un pasajero donde falte esa información (si el padre de un pasajero está a bordo y tiene 35 años es probable que el pasajero tenga menos de 10). Pero no es el caso. Si esta es tu elección trabaja en las celdas siguientes."
   ]
  },
  {
   "cell_type": "markdown",
   "id": "75ef1906",
   "metadata": {},
   "source": [
    "Crea una nueva columna en *titanic_intro* donde sumes el valor de *SibSp* y *Parch*"
   ]
  },
  {
   "cell_type": "code",
   "execution_count": null,
   "id": "3f54e3a3",
   "metadata": {},
   "outputs": [],
   "source": []
  },
  {
   "cell_type": "markdown",
   "id": "153b0b1d",
   "metadata": {},
   "source": [
    "Elimina las columnas *SibSp* y *Parch* de *titanic_intro*"
   ]
  },
  {
   "cell_type": "code",
   "execution_count": null,
   "id": "26418fab",
   "metadata": {},
   "outputs": [],
   "source": []
  },
  {
   "cell_type": "markdown",
   "id": "1bf31e45",
   "metadata": {},
   "source": [
    "#### Columna *Embarked*\n",
    "\n",
    "Recuerda la información obtenida de la variable *Embarked* edad en el *DataFrame* *titanic_train*. ¿De qué tipo es? ¿Te parece relevante? ¿Tiene datos faltantes? ¿anómalos?"
   ]
  },
  {
   "cell_type": "markdown",
   "id": "adfb7ca7",
   "metadata": {},
   "source": [
    "De nuevo dos posibilidades para esta columna:\n",
    "\n",
    "* Eliminarla. No parece aportar gran cosa saber el puerto en que embarcaron. Si esta es tu opción usa la celda siguiente para eliminar la columna de *titanic_intro*."
   ]
  },
  {
   "cell_type": "code",
   "execution_count": null,
   "id": "541b1baa",
   "metadata": {},
   "outputs": [],
   "source": []
  },
  {
   "cell_type": "markdown",
   "id": "a5e2649a",
   "metadata": {},
   "source": [
    "* Mantenerla. Si decides mantenerla deberás codificarla usando **One-Hot Encoding**. Usa la siguiente celda para codificarla en *titanic_intro*"
   ]
  },
  {
   "cell_type": "code",
   "execution_count": null,
   "id": "1948df94",
   "metadata": {},
   "outputs": [],
   "source": []
  },
  {
   "cell_type": "markdown",
   "id": "8b5a2299",
   "metadata": {},
   "source": [
    "### Prueba del Modelo.\n",
    "\n",
    "Hasta aquí las modificaciones sobre los datos de entrada. Vamos a ver cómo se comporta el modelo frente a los datos que le proporcionamos.\n"
   ]
  },
  {
   "cell_type": "code",
   "execution_count": null,
   "id": "1e20583d",
   "metadata": {},
   "outputs": [],
   "source": [
    "#import necessary libraries for the program\n",
    "from sklearn.model_selection import train_test_split\n",
    "from sklearn.ensemble import RandomForestClassifier\n",
    "from sklearn.preprocessing import LabelEncoder\n",
    "from sklearn.metrics import accuracy_score"
   ]
  },
  {
   "cell_type": "code",
   "execution_count": null,
   "id": "3923d8b2",
   "metadata": {},
   "outputs": [],
   "source": [
    "#Divide the dataset into features and target variables\n",
    "X=titanic_intro.iloc[:,1:]\n",
    "Y=titanic_intro['Survived'].ravel()\n",
    "\n",
    "#Divide the dataset into training and testing data\n",
    "X_train, X_test, Y_train, Y_test = train_test_split(X, Y, random_state=0)"
   ]
  },
  {
   "cell_type": "code",
   "execution_count": null,
   "id": "2cff22eb",
   "metadata": {},
   "outputs": [],
   "source": [
    "#Fit the training data into the Random Forest Classifier\n",
    "model=RandomForestClassifier().fit(X_train, Y_train)\n",
    "predict = model.predict(X_test)"
   ]
  },
  {
   "cell_type": "code",
   "execution_count": null,
   "id": "3155baad",
   "metadata": {},
   "outputs": [],
   "source": [
    "print(\"Efficiency is :\")\n",
    "print(accuracy_score(predict, Y_test)*100) "
   ]
  }
 ],
 "metadata": {
  "kernelspec": {
   "display_name": "Python 3",
   "language": "python",
   "name": "python3"
  },
  "language_info": {
   "codemirror_mode": {
    "name": "ipython",
    "version": 3
   },
   "file_extension": ".py",
   "mimetype": "text/x-python",
   "name": "python",
   "nbconvert_exporter": "python",
   "pygments_lexer": "ipython3",
   "version": "3.13.7"
  }
 },
 "nbformat": 4,
 "nbformat_minor": 5
}
