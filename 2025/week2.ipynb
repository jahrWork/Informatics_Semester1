{
 "cells": [
  {
   "cell_type": "markdown",
   "id": "d58b8660",
   "metadata": {},
   "source": [
    "# Integer numbers expressed in different bases (decimal, binary, hexadecimal) "
   ]
  },
  {
   "cell_type": "markdown",
   "id": "aaed98c5",
   "metadata": {},
   "source": [
    "### Base-10 (decimal) \n",
    "\n",
    "$$\n",
    "    123 = 1 \\cdot \\ 10^2 + 2 \\cdot \\ 10^1 + 3 \\cdot \\ 10^0 \n",
    "$$"
   ]
  },
  {
   "cell_type": "code",
   "execution_count": 7,
   "id": "88422e7c",
   "metadata": {},
   "outputs": [
    {
     "name": "stdout",
     "output_type": "stream",
     "text": [
      "123  = 1 * 10 **2 + 2 * 10 **1 + 3 * 10 **0 + \n"
     ]
    }
   ],
   "source": [
    "\n",
    "n = 123 \n",
    "sn = str(n)\n",
    "Base10 = \"\"\n",
    "l = len(sn)\n",
    "for i in range(l): \n",
    "    Base10 = Base10 + sn[i] + \" * 10 **\" + str( l-i-1 ) + \" + \"  \n",
    "    \n",
    "print( n, \" =\", Base10)    "
   ]
  },
  {
   "cell_type": "markdown",
   "id": "676a6119",
   "metadata": {},
   "source": [
    "### Transform integer number to binary base \n",
    "\n",
    "$$\n",
    "    123 = 1 \\cdot 2^6 + 1 \\cdot 2^5 + 1 \\cdot 2^4 + 1 \\cdot 2^3 + 0 \\cdot 2^2 +  1 \\cdot 2^1 +  1 \\cdot 2^0 \n",
    "$$"
   ]
  },
  {
   "cell_type": "code",
   "execution_count": 8,
   "id": "e9a077ad",
   "metadata": {},
   "outputs": [
    {
     "name": "stdout",
     "output_type": "stream",
     "text": [
      "0b1111011\n",
      "1111011\n"
     ]
    }
   ],
   "source": [
    "\n",
    "\n",
    "# n = int(input(\"Enter number  \"))\n",
    "n = 123 \n",
    "print( bin(n) )\n",
    "\n",
    "if n==0: \n",
    "    bits = \"0\"\n",
    "else:    \n",
    "    bits = \"\"\n",
    "    while n > 0: \n",
    "      bits =  str(n % 2) + bits\n",
    "      n = n // 2 \n",
    "print(bits)    "
   ]
  },
  {
   "cell_type": "markdown",
   "id": "9c09e767",
   "metadata": {},
   "source": []
  },
  {
   "cell_type": "code",
   "execution_count": 9,
   "id": "31e8d67f",
   "metadata": {},
   "outputs": [],
   "source": [
    "\n",
    "    \n",
    "# # Transform binary base to integer number \n",
    "# bits = \"1100\"  \n",
    "# l = len(bits) \n",
    "# n = 0 \n",
    "# for i in range(l): \n",
    "#      n = n + int( bits[i] ) * 2**(l-i-1)\n",
    "#      print( \" i=\", i, \" n = \", n)\n",
    "     \n",
    "# print ( \"n = \", n )     \n",
    "\n",
    "\n",
    "    \n",
    "\n",
    "# print(bits)\n",
    "# l = len(bits)\n",
    "\n",
    "# Base2 = \"\"\n",
    "# for i in range(l): \n",
    "#       Base2 = Base2 + bits[i] + \" * 2 **\" + str( l-i-1 ) + \" + \"  \n",
    "    \n",
    "# print( n, \" =\", Base2)    \n",
    "\n",
    "\n",
    "# n = 123\n",
    "# digits = \"\"\n",
    "# D =\"01\"\n",
    "# while n>0: \n",
    "#     digits =  D[n%2]  + digits \n",
    "#     print(digits)\n",
    "#     n = n // 2\n",
    "# print(digits)\n",
    "\n",
    "# Base2 = \"\"\n",
    "# l = len(digits)\n",
    "# for i in range(l): \n",
    "#     Base2 = Base2 + \" + \" + digits[i] + \" x 2^\" + str(l-i-1) \n",
    "# print(Base2)  \n",
    "\n",
    "\n",
    "\n",
    "\n",
    "\n",
    "\n",
    "# n = 123\n",
    "# D =\"0123456789\"\n",
    "# digits = \"\"\n",
    "# while n>0: \n",
    "#     digits =  D[n%10]  + digits \n",
    "#     print(digits)\n",
    "#     n = n // 10\n",
    "# print(digits)\n",
    "\n",
    "# Base10 = \"\"\n",
    "# l = len(digits)\n",
    "# for i in range(l): \n",
    "#     Base10 = Base10 + \" + \" + digits[i] + \" x 10^\" + str(l-i-1) \n",
    "# print(Base10)   \n",
    "\n",
    "\n",
    "\n",
    "\n",
    "\n",
    "\n",
    "# D =\"0123456789ABCDEFG\"\n",
    "# n = 123\n",
    "# digits = \"\"\n",
    "# while n>0: \n",
    "#     digits =  D[n%16]  + digits \n",
    "#     n = n // 16\n",
    "#     print(digits, \" n = \", n )\n",
    "# print(digits)\n",
    "\n",
    "# Base16 = \"\"\n",
    "# l = len(digits)\n",
    "# for i in range(l): \n",
    "#     Base16 = Base16 + \" + \" + digits[i] + \" x 16^\" + str(l-i-1) \n",
    "# print(\"digits =\", digits)\n",
    "# print(Base16) \n",
    "\n",
    "\n",
    "\n",
    "# def digits(base, n): \n",
    "\n",
    "#     if base == \"binary\": \n",
    "#            D = \"01\"\n",
    "#            den = 2\n",
    "#     elif base == \"decimal\": \n",
    "#            D = \"0123456789\"\n",
    "#            den = 10\n",
    "#     elif base == \"hexa\": \n",
    "#            D = \"0123456789ABCDEF\"\n",
    "#            den = 16 \n",
    "#     else: \n",
    "#         print(\"Error: not implemented base = \", base)\n",
    "              \n",
    "#     digits = \"\"\n",
    "#     while n>0: \n",
    "#       digits =  D[n%den]  + digits \n",
    "#       n = n // den \n",
    "    \n",
    "#     Base = \"\"\n",
    "#     l = len(digits)\n",
    "#     for i in range(l): \n",
    "#       Base = Base + \" + \" + digits[i] + \" x \"+ str(den)+\"^\" + str(l-i-1) \n",
    "\n",
    "#     return digits, Base\n",
    " \n",
    "\n",
    "\n",
    "# n = 123\n",
    "# d, B = digits(\"hexa\", n) \n",
    "# print(\"digits = \", d,  \" Representation =\", B)\n",
    "\n",
    "# d, B = digits(\"decimal\", n) \n",
    "# print(\"digits = \", d,  \" Representation =\", B)\n",
    "\n",
    "# d, B = digits(\"binary\", n) \n",
    "# print(\"digits = \", d,  \" Representation =\", B)"
   ]
  }
 ],
 "metadata": {
  "kernelspec": {
   "display_name": "Python 3",
   "language": "python",
   "name": "python3"
  },
  "language_info": {
   "codemirror_mode": {
    "name": "ipython",
    "version": 3
   },
   "file_extension": ".py",
   "mimetype": "text/x-python",
   "name": "python",
   "nbconvert_exporter": "python",
   "pygments_lexer": "ipython3",
   "version": "3.13.7"
  }
 },
 "nbformat": 4,
 "nbformat_minor": 5
}
