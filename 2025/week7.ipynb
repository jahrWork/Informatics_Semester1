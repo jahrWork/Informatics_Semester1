{
  "cells": [
    {
      "cell_type": "markdown",
      "metadata": {},
      "source": [
        "# SciPy: Michel Zingale"
      ]
    },
    {
      "cell_type": "markdown",
      "metadata": {},
      "source": [
        "[SciPy](https://scipy.org/) is a collection of numerical algorithms with python interfaces.  In many cases, these interfaces are wrappers around standard numerical libraries that have been developed in the community and are used with other languages.  Usually detailed references are available to explain the implementation."
      ]
    },
    {
      "cell_type": "markdown",
      "metadata": {},
      "source": [
        "````{note}\n",
        "There are many subpackages generally, you load the subpackages separately, e.g.\n",
        "\n",
        "```\n",
        "from scipy import linalg, optimize\n",
        "```\n",
        "then you have access to the methods in those namespaces\n",
        "````"
      ]
    },
    {
      "cell_type": "markdown",
      "metadata": {},
      "source": [
        "```{important}\n",
        "One thing to keep in mind---all numerical methods have strengths and weaknesses, and make assumptions.  You should always do some research into the method to understand what it is doing.\n",
        "```"
      ]
    },
    {
      "cell_type": "markdown",
      "metadata": {},
      "source": [
        "```{tip}\n",
        "It is also always a good idea to run a new method on some test where you know the answer, to make sure it is behaving as expected.\n",
        "```"
      ]
    },
    {
      "cell_type": "code",
      "execution_count": 1,
      "metadata": {},
      "outputs": [],
      "source": [
        "import numpy as np\n",
        "import matplotlib.pyplot as plt"
      ]
    },
    {
      "cell_type": "markdown",
      "metadata": {},
      "source": [
        "## Integration"
      ]
    },
    {
      "cell_type": "markdown",
      "metadata": {},
      "source": [
        "we'll do some integrals of the form\n",
        "\n",
        "$$I = \\int_a^b f(x) dx$$\n",
        "\n",
        "We can imagine two situations:\n",
        "* our function $f(x)$ is given by an analytic expression.  This gives us the freedom to pick our integration points, and in general can allow us to optimize our result and get high accuracy\n",
        "* our function $f(x)$ is defined on at a set of (possibly regular spaced) points.  "
      ]
    },
    {
      "cell_type": "markdown",
      "metadata": {},
      "source": [
        "```{note}\n",
        "In numerical analysis, the term [quadrature](https://en.wikipedia.org/wiki/Numerical_integration) is used to describe any integration method that represents the integral as the weighted sum of a discrete number of points.\n",
        "```"
      ]
    },
    {
      "cell_type": "code",
      "execution_count": 2,
      "metadata": {},
      "outputs": [
        {
          "ename": "ModuleNotFoundError",
          "evalue": "No module named 'scipy'",
          "output_type": "error",
          "traceback": [
            "\u001b[31m---------------------------------------------------------------------------\u001b[39m",
            "\u001b[31mModuleNotFoundError\u001b[39m                       Traceback (most recent call last)",
            "\u001b[36mCell\u001b[39m\u001b[36m \u001b[39m\u001b[32mIn[2]\u001b[39m\u001b[32m, line 1\u001b[39m\n\u001b[32m----> \u001b[39m\u001b[32m1\u001b[39m \u001b[38;5;28;01mfrom\u001b[39;00m\u001b[38;5;250m \u001b[39m\u001b[34;01mscipy\u001b[39;00m\u001b[38;5;250m \u001b[39m\u001b[38;5;28;01mimport\u001b[39;00m integrate\n\u001b[32m      2\u001b[39m \u001b[38;5;66;03m#help(integrate)\u001b[39;00m\n",
            "\u001b[31mModuleNotFoundError\u001b[39m: No module named 'scipy'"
          ]
        }
      ],
      "source": [
        "from scipy import integrate\n",
        "#help(integrate)"
      ]
    },
    {
      "cell_type": "markdown",
      "metadata": {},
      "source": [
        "Let's consider integrating\n",
        "\n",
        "$$I = \\int_0^{2\\pi} \\sin^2(x) dx$$\n",
        "\n",
        "[quad()](https://docs.scipy.org/doc/scipy/reference/generated/scipy.integrate.quad.html) is the basic integrator for a general (not sampled) function.  It uses a general-interface from the Fortran package QUADPACK (QAGS or QAGI).  It will return the integral in an interval and an estimate of the error in the approximation"
      ]
    },
    {
      "cell_type": "code",
      "execution_count": null,
      "metadata": {},
      "outputs": [],
      "source": [
        "def f(x):\n",
        "    return np.sin(x)**2"
      ]
    },
    {
      "cell_type": "code",
      "execution_count": null,
      "metadata": {
        "tags": []
      },
      "outputs": [],
      "source": [
        "#help(integrate.quad)"
      ]
    },
    {
      "cell_type": "markdown",
      "metadata": {},
      "source": [
        "`quad` will return the integral and an estimate of the error.  We can seek more accuracy by setting `epsabs` and `epsrel`,\n",
        "but remember that we can't do better than roundoff error."
      ]
    },
    {
      "cell_type": "code",
      "execution_count": null,
      "metadata": {},
      "outputs": [],
      "source": [
        "I, err = integrate.quad(f, 0.0, 2.0*np.pi, epsabs=1.e-14, epsrel=1.e-14)\n",
        "print(I)\n",
        "print(err)"
      ]
    },
    {
      "cell_type": "code",
      "execution_count": null,
      "metadata": {},
      "outputs": [],
      "source": [
        "#help(integrate.quad)"
      ]
    },
    {
      "cell_type": "markdown",
      "metadata": {},
      "source": [
        "### Additional arguments\n",
        "\n",
        "Sometimes our integrand function takes optional arguments.  Let's consider integrating\n",
        "\n",
        "$$g(x) = A e^{-(x/\\sigma)^2}$$\n",
        "\n",
        "now we want to be able to define the amplitude, $A$, and width, $\\sigma$ as part of the function."
      ]
    },
    {
      "cell_type": "code",
      "execution_count": null,
      "metadata": {},
      "outputs": [],
      "source": [
        "def g(x, A, sigma):\n",
        "    return A*np.exp(-x**2/sigma**2)"
      ]
    },
    {
      "cell_type": "code",
      "execution_count": null,
      "metadata": {},
      "outputs": [],
      "source": [
        "I, err = integrate.quad(g, -1.0, 1.0, args=(1.0, 2.0))\n",
        "print(I, err)"
      ]
    },
    {
      "cell_type": "markdown",
      "metadata": {},
      "source": [
        "### Integrating to infinity\n",
        "\n",
        "numpy defines the `inf` quantity which can be used in the integration limits.  We can integrate a Gaussian over $[-\\infty, \\infty]$ (we know the answer\n",
        "is $\\sqrt{\\pi}$)."
      ]
    },
    {
      "cell_type": "markdown",
      "metadata": {},
      "source": [
        "```{note}\n",
        "Behind the scenes, what the integration function does is do a variable transform like: $t = x/(c +x)$.  This works when one limit is $\\infty$, giving, e.g.,\n",
        "\n",
        "$$\\int_a^\\infty f(x) dx = c \\int_{a/(c + a)}^1 f\\left (c\\frac{t}{1-t}\\right) (1 - t)^{-2} dt$$\n",
        "```"
      ]
    },
    {
      "cell_type": "code",
      "execution_count": null,
      "metadata": {},
      "outputs": [],
      "source": [
        "I, err = integrate.quad(g, -np.inf, np.inf, args=(1.0, 1.0))\n",
        "print(I, err)"
      ]
    },
    {
      "cell_type": "markdown",
      "metadata": {},
      "source": [
        "### Multidimensional integrals"
      ]
    },
    {
      "cell_type": "markdown",
      "metadata": {},
      "source": [
        "Multidimensional integration can be done with successive calls to quad(), but there are wrappers that help"
      ]
    },
    {
      "cell_type": "markdown",
      "metadata": {},
      "source": [
        "Let's compute \n",
        "\n",
        "$$I = \\int_{y=0}^{1/2} \\int_{x=0}^{1-2y} xy dxdy = \\frac{1}{96}$$\n",
        "\n",
        "(this example comes from the SciPy tutorial)\n",
        "\n",
        "Notice that the limits of integration in $x$ depend on $y$.  This means that we need to do the $x$\n",
        "integration first, which gives:\n",
        "\n",
        "$$I = \\int_{y=0}^{1/2} \\int_{x=0}^{1-2y} xy \\,dxdy = \\frac{1}{2} \\int_{y=0}^{1/2} y \\left [ x^2 \\right |_0^{1-2y} dy = \\frac{1}{2} \\int_0^{1/2} (1-2y)^2 y \\, dy = \\frac{1}{96}$$\n",
        "\n",
        "Note the form of the function:\n",
        "\n",
        "```\n",
        "dblquad(f, a, b, xlo, xhi)\n",
        "```\n",
        "where `f` = `f(y, x)` -- the y argument is first to indicate that the $y$ integration is done first and\n",
        "then the $x$ and $[a, b]$ are the limits of the $x$ integration.  We want the opposite in this example,\n",
        "so we'll switch the meaning of $x$ and $y$ in our example below.\n",
        "\n",
        "The integral will be from: $y = [0, 1/2]$, and $x$ = `xlo(y)`, $x$ = `xhi(y)`"
      ]
    },
    {
      "cell_type": "code",
      "execution_count": null,
      "metadata": {},
      "outputs": [],
      "source": [
        "def integrand(x, y):\n",
        "    return x*y\n",
        "\n",
        "def x_lower_lim(y):\n",
        "    return 0\n",
        "    \n",
        "def x_upper_lim(y):\n",
        "    return 1-2*y\n",
        "\n",
        "# we change the definitions of x and y in this call\n",
        "I, err = integrate.dblquad(integrand, 0.0, 0.5, x_lower_lim, x_upper_lim)\n",
        "print(I, 1.0/I)"
      ]
    },
    {
      "cell_type": "markdown",
      "metadata": {},
      "source": [
        "If you remember the python lambda functions (one expression functions), you can do this more compactly:"
      ]
    },
    {
      "cell_type": "code",
      "execution_count": null,
      "metadata": {},
      "outputs": [],
      "source": [
        "I, err = integrate.dblquad(lambda x, y: x*y, 0.0, 0.5, lambda y: 0, lambda y: 1-2*y)\n",
        "print(I)"
      ]
    },
    {
      "cell_type": "markdown",
      "metadata": {},
      "source": [
        "### Integration of a sampled function"
      ]
    },
    {
      "cell_type": "markdown",
      "metadata": {},
      "source": [
        "Here we integrate a function that is defined only at a sequence of points.  A popular method\n",
        "is [Simpson's rule](https://en.wikipedia.org/wiki/Simpson%27s_rule) which fits a parabola to 3 consecutive points\n",
        "and integrates under the parabola."
      ]
    },
    {
      "cell_type": "markdown",
      "metadata": {},
      "source": [
        "Let's compute\n",
        "\n",
        "$$I = \\int_0^{2\\pi} f(x_i) dx$$\n",
        "\n",
        "with $x_i = 0, \\ldots, 2\\pi$ defined at $N$ points"
      ]
    },
    {
      "cell_type": "code",
      "execution_count": null,
      "metadata": {},
      "outputs": [],
      "source": [
        "N = 17\n",
        "x = np.linspace(0.0, 2.0*np.pi, N, endpoint=True)\n",
        "y = np.sin(x)**2\n",
        "\n",
        "I = integrate.simpson(y, x=x)\n",
        "print(I)"
      ]
    },
    {
      "cell_type": "markdown",
      "metadata": {},
      "source": [
        "[Romberg integration](https://en.wikipedia.org/wiki/Romberg%27s_method) is specific to equally-spaced samples, where $N = 2^k + 1$  and can be more converge faster (it uses extrapolation of coarser integration results to achieve higher accuracy)"
      ]
    },
    {
      "cell_type": "code",
      "execution_count": null,
      "metadata": {},
      "outputs": [],
      "source": [
        "N = 17\n",
        "x = np.linspace(0.0, 2.0*np.pi, N, endpoint=True)\n",
        "y = np.sin(x)**2\n",
        "\n",
        "I = integrate.romb(y, dx=x[1]-x[0])\n",
        "print(I)"
      ]
    },
    {
      "cell_type": "markdown",
      "metadata": {},
      "source": [
        "## Interpolation"
      ]
    },
    {
      "cell_type": "markdown",
      "metadata": {},
      "source": [
        "Interpolation fills in the gaps between a discrete number of points by making an assumption about the behavior of the functional form of the data.\n",
        "\n",
        "Many different types of interpolation exist\n",
        "* some ensure no new extrema are introduced\n",
        "* some conserve the quantity being interpolated\n",
        "* some match derivative at end points"
      ]
    },
    {
      "cell_type": "markdown",
      "metadata": {},
      "source": [
        "```{caution}\n",
        "Pathologies exist---it is not always best to use a high-order polynomial to pass through all of the points in your dataset.\n",
        "```"
      ]
    },
    {
      "cell_type": "markdown",
      "metadata": {},
      "source": [
        "The [interp1d()](https://docs.scipy.org/doc/scipy/reference/generated/scipy.interpolate.interp1d.html) function allows for a variety of 1-d interpolation methods.  It returns an object that acts as a function, which can be evaluated at any point."
      ]
    },
    {
      "cell_type": "code",
      "execution_count": null,
      "metadata": {},
      "outputs": [],
      "source": [
        "import scipy.interpolate as interpolate"
      ]
    },
    {
      "cell_type": "code",
      "execution_count": null,
      "metadata": {
        "tags": []
      },
      "outputs": [],
      "source": [
        "#help(interpolate.interp1d)"
      ]
    },
    {
      "cell_type": "markdown",
      "metadata": {},
      "source": [
        "Let's sample \n",
        "\n",
        "$$f(x) = x \\sin(x)$$\n",
        "\n",
        "and try to interpolate it."
      ]
    },
    {
      "cell_type": "code",
      "execution_count": null,
      "metadata": {},
      "outputs": [],
      "source": [
        "def f_exact(x):\n",
        "    return np.sin(x)*x"
      ]
    },
    {
      "cell_type": "code",
      "execution_count": null,
      "metadata": {},
      "outputs": [],
      "source": [
        "N = 10\n",
        "x = np.linspace(0, 20, N)\n",
        "\n",
        "y = f_exact(x)"
      ]
    },
    {
      "cell_type": "code",
      "execution_count": null,
      "metadata": {
        "tags": []
      },
      "outputs": [],
      "source": [
        "fig, ax = plt.subplots()\n",
        "\n",
        "x_fine = np.linspace(0, 20, 10*N)\n",
        "\n",
        "ax.scatter(x, y)\n",
        "ax.plot(x_fine, f_exact(x_fine), ls=\":\", label=\"original function\")"
      ]
    },
    {
      "cell_type": "markdown",
      "metadata": {},
      "source": [
        "When we create an interpolant via `interp1d`, it creates a function object"
      ]
    },
    {
      "cell_type": "code",
      "execution_count": null,
      "metadata": {},
      "outputs": [],
      "source": [
        "f_interp = interpolate.interp1d(x, y, kind=\"cubic\")"
      ]
    },
    {
      "cell_type": "code",
      "execution_count": null,
      "metadata": {},
      "outputs": [],
      "source": [
        "ax.plot(x_fine, f_interp(x_fine), label=\"interpolant\")\n",
        "\n",
        "ax.legend(frameon=False, loc=\"best\")\n",
        "fig"
      ]
    },
    {
      "cell_type": "markdown",
      "metadata": {},
      "source": [
        "### Multi-d interpolation"
      ]
    },
    {
      "cell_type": "markdown",
      "metadata": {},
      "source": [
        "Here's an example of mult-d interpolation from the official tutorial.\n",
        "\n",
        "First we define the \"answer\"---this is the true function that we will sample at a number of points and then try to use interpolation to recover"
      ]
    },
    {
      "cell_type": "code",
      "execution_count": null,
      "metadata": {},
      "outputs": [],
      "source": [
        "def func(x, y):\n",
        "    return x*(1-x)*np.cos(4*np.pi*x) * np.sin(4*np.pi*y**2)**2"
      ]
    },
    {
      "cell_type": "markdown",
      "metadata": {},
      "source": [
        "We'll use `np.meshgrid()` to create the two-dimensional rectangular grid of points were we define our data."
      ]
    },
    {
      "cell_type": "code",
      "execution_count": null,
      "metadata": {},
      "outputs": [],
      "source": [
        "nx = 100\n",
        "ny = 200\n",
        "\n",
        "x = np.linspace(0, 1, nx)\n",
        "y = np.linspace(0, 1, ny)\n",
        "\n",
        "x, y = np.meshgrid(x, y, indexing=\"ij\")"
      ]
    },
    {
      "cell_type": "markdown",
      "metadata": {},
      "source": [
        "here's what the exact function looks like---note that our function is defined in x,y, but imshow is meant for plotting an array, so the first index is the row.  We take the transpose when plotting"
      ]
    },
    {
      "cell_type": "code",
      "execution_count": null,
      "metadata": {},
      "outputs": [],
      "source": [
        "fig, ax = plt.subplots()\n",
        "data = func(x, y)\n",
        "im = ax.imshow(data.T, extent=(0, 1, 0, 1), origin=\"lower\")\n",
        "fig.colorbar(im, ax=ax)"
      ]
    },
    {
      "cell_type": "markdown",
      "metadata": {},
      "source": [
        "Now we'll coarsen it by taking only every 4th point"
      ]
    },
    {
      "cell_type": "code",
      "execution_count": null,
      "metadata": {},
      "outputs": [],
      "source": [
        "coarse = data[::4, ::4]"
      ]
    },
    {
      "cell_type": "code",
      "execution_count": null,
      "metadata": {},
      "outputs": [],
      "source": [
        "fig, ax = plt.subplots()\n",
        "im = ax.imshow(coarse.T, extent=(0, 1, 0, 1), origin=\"lower\")\n",
        "fig.colorbar(im, ax=ax)"
      ]
    },
    {
      "cell_type": "markdown",
      "metadata": {},
      "source": [
        "Let's now use interpolation to try to recover the look of the original data."
      ]
    },
    {
      "cell_type": "markdown",
      "metadata": {},
      "source": [
        "```{note}\n",
        "This is considered structured grid interpolation, and SciPy has the [RegularGridInterpolator()](https://docs.scipy.org/doc/scipy/reference/generated/scipy.interpolate.RegularGridInterpolator.html) class for this type of data.\n",
        "\n",
        "If the data were unstructured, then you should explore [griddata()](https://docs.scipy.org/doc/scipy/reference/generated/scipy.interpolate.griddata.html) instead.\n",
        "```"
      ]
    },
    {
      "cell_type": "code",
      "execution_count": null,
      "metadata": {},
      "outputs": [],
      "source": [
        "from scipy import interpolate"
      ]
    },
    {
      "cell_type": "code",
      "execution_count": null,
      "metadata": {},
      "outputs": [],
      "source": [
        "x_coarse = np.linspace(0, 1, nx//4)\n",
        "y_coarse = np.linspace(0, 1, ny//4)\n",
        "\n",
        "interp = interpolate.RegularGridInterpolator((x_coarse, y_coarse), coarse, method=\"cubic\")"
      ]
    },
    {
      "cell_type": "markdown",
      "metadata": {},
      "source": [
        "Now `interp()` is a function that we can use to sample the coarsened data."
      ]
    },
    {
      "cell_type": "markdown",
      "metadata": {},
      "source": [
        "Now interpolate it onto the original grid"
      ]
    },
    {
      "cell_type": "code",
      "execution_count": null,
      "metadata": {},
      "outputs": [],
      "source": [
        "new_data = interp((x, y))\n",
        "new_data.shape"
      ]
    },
    {
      "cell_type": "code",
      "execution_count": null,
      "metadata": {},
      "outputs": [],
      "source": [
        "fig, ax = plt.subplots()\n",
        "im = ax.imshow(new_data.T, extent=(0, 1, 0, 1), origin=\"lower\")\n",
        "fig.colorbar(im, ax=ax)"
      ]
    },
    {
      "cell_type": "markdown",
      "metadata": {},
      "source": [
        "and let's plot the difference"
      ]
    },
    {
      "cell_type": "code",
      "execution_count": null,
      "metadata": {},
      "outputs": [],
      "source": [
        "diff = new_data - data\n",
        "fig, ax = plt.subplots()\n",
        "im = ax.imshow(diff.T, origin=\"lower\", extent=(0, 1, 0, 1))\n",
        "fig.colorbar(im, ax=ax)"
      ]
    },
    {
      "cell_type": "markdown",
      "metadata": {},
      "source": [
        "## Root Finding"
      ]
    },
    {
      "cell_type": "markdown",
      "metadata": {},
      "source": [
        "Often we need to find a value of a variable that zeros a function -- this is _root finding_.  Sometimes, this is a multidimensional problem."
      ]
    },
    {
      "cell_type": "markdown",
      "metadata": {},
      "source": [
        "The [brentq()](https://docs.scipy.org/doc/scipy/reference/generated/scipy.optimize.brentq.html) method offers a very robust method for find roots from a scalar function.  You do need to provide an interval that bounds the root."
      ]
    },
    {
      "cell_type": "markdown",
      "metadata": {},
      "source": [
        "```{tip}\n",
        "It's a good idea to plot the function, if you can, so you can learn how the function behaves\n",
        "in the vicinity of a root (and how many roots there might be)\n",
        "```"
      ]
    },
    {
      "cell_type": "markdown",
      "metadata": {},
      "source": [
        "Let's consider:\n",
        "\n",
        "$f(x) = \\frac{x e^x}{e^x - 1} - 5$"
      ]
    },
    {
      "cell_type": "code",
      "execution_count": null,
      "metadata": {},
      "outputs": [],
      "source": [
        "import scipy.optimize as optimize"
      ]
    },
    {
      "cell_type": "code",
      "execution_count": null,
      "metadata": {},
      "outputs": [],
      "source": [
        "def f(x):\n",
        "    return (x*np.exp(x)/(np.exp(x) - 1.0) - 5.0)"
      ]
    },
    {
      "cell_type": "code",
      "execution_count": null,
      "metadata": {},
      "outputs": [],
      "source": [
        "root, r = optimize.brentq(f, 0.1, 10.0, full_output=True)\n",
        "\n",
        "print(root)\n",
        "print(r.converged)"
      ]
    },
    {
      "cell_type": "code",
      "execution_count": null,
      "metadata": {},
      "outputs": [],
      "source": [
        "x = np.linspace(0.1, 10.0, 1000)\n",
        "fig, ax = plt.subplots()\n",
        "ax.plot(x, f(x))\n",
        "ax.scatter(np.array([root]), np.array([f(root)]))\n",
        "ax.grid()"
      ]
    },
    {
      "cell_type": "markdown",
      "metadata": {},
      "source": [
        "## ODEs"
      ]
    },
    {
      "cell_type": "markdown",
      "metadata": {},
      "source": [
        "Many methods exist for integrating ordinary differential equations.  Most will want you to write your ODEs as a system of first order equations."
      ]
    },
    {
      "cell_type": "markdown",
      "metadata": {},
      "source": [
        "The [Lorenz system](https://en.wikipedia.org/wiki/Lorenz_system) is a very simple\n",
        "model of convection in our atmosphere, but demonstrates the idea of chaos well.\n",
        "\n",
        "This system of ODEs for the Lorenz system is:\n",
        "\n",
        "$$\\frac{dx}{dt} = \\sigma (y - x)$$\n",
        "$$\\frac{dy}{dt} = rx - y - xz$$\n",
        "$$\\frac{dz}{dt} = xy - bz$$\n",
        "\n",
        "the steady states of this system correspond to:\n",
        "\n",
        "$${\\bf f}({\\bf x}) = \n",
        "\\left (\n",
        "\\begin{array}{c}\n",
        "\\sigma (y -x) \\\\\n",
        "rx - y -xz \\\\\n",
        "xy - bz\n",
        "\\end{array}\n",
        "\\right )\n",
        "= 0$$\n"
      ]
    },
    {
      "cell_type": "code",
      "execution_count": null,
      "metadata": {},
      "outputs": [],
      "source": [
        "# system parameters\n",
        "sigma = 10.0\n",
        "b = 8./3.\n",
        "r = 28.0\n",
        "\n",
        "def rhs(t, x):\n",
        "    xdot = sigma*(x[1] - x[0])\n",
        "    ydot = r*x[0] - x[1] - x[0]*x[2]\n",
        "    zdot = x[0]*x[1] - b*x[2]\n",
        "\n",
        "    return np.array([xdot, ydot, zdot])\n",
        "\n",
        "def jac(t, x):\n",
        "\n",
        "    return np.array(\n",
        "        [ [-sigma, sigma, 0.0], \n",
        "          [r - x[2], -1.0, -x[0]],\n",
        "          [x[1], x[0], -b] ])\n",
        "\n",
        "def f(x):\n",
        "    return rhs(0.,x), jac(0.,x)"
      ]
    },
    {
      "cell_type": "markdown",
      "metadata": {},
      "source": [
        "SciPy has a uniform interface to the different ODE solvers, [solve_ivp()](https://docs.scipy.org/doc/scipy/reference/generated/scipy.integrate.solve_ivp.html)---we use that here.\n",
        "\n",
        "These integrators will do error estimation along the way and adapt the stepsize to ensure that the accuracy\n",
        "you request is met."
      ]
    },
    {
      "cell_type": "code",
      "execution_count": null,
      "metadata": {},
      "outputs": [],
      "source": [
        "def ode_integrate(X0, dt, tmax):\n",
        "    \"\"\" integrate using the VODE method, storing the solution each dt \"\"\"\n",
        "\n",
        "    r = integrate.solve_ivp(rhs, (0.0, tmax), X0,\n",
        "                            method=\"RK45\", dense_output=True)\n",
        "\n",
        "    # get the solution at intermediate times\n",
        "    ts = np.arange(0.0, tmax, dt)\n",
        "    \n",
        "    Xs = r.sol(ts)\n",
        "    return ts, Xs"
      ]
    },
    {
      "cell_type": "markdown",
      "metadata": {},
      "source": [
        "````{tip}\n",
        "Execute\n",
        "```\n",
        "%matplotlib widget\n",
        "```\n",
        "in a cell before making this 3D plot and you will be able to interactively\n",
        "rotate it in the notebook.\n",
        "\n",
        "You may need to install the [ipympl](https://matplotlib.org/ipympl/) package first.\n",
        "````"
      ]
    },
    {
      "cell_type": "code",
      "execution_count": null,
      "metadata": {},
      "outputs": [],
      "source": [
        "t, X = ode_integrate([1.0, 1.0, 20.0], 0.02, 30)\n",
        "from mpl_toolkits.mplot3d import Axes3D\n",
        "\n",
        "fig = plt.figure()\n",
        "ax = plt.axes(projection='3d')\n",
        "ax.plot(X[0,:], X[1,:], X[2,:])\n",
        "fig.set_size_inches(8.0,6.0)"
      ]
    },
    {
      "cell_type": "markdown",
      "metadata": {},
      "source": [
        "```{admonition} try it\n",
        "Rerun the integration, but change the initial conditions by 1 part in $10^6$ for one of the components.\n",
        "The make a plot of $x$ vs. $t$ comparing the solutions.  You'll see that the 2 solutions track well\n",
        "for some time but then greatly diverged.  This is the sensitivity to initial conditions that is the\n",
        "hallmark of chaos.\n",
        "```"
      ]
    },
    {
      "cell_type": "markdown",
      "metadata": {},
      "source": [
        "### Multi-variate root find"
      ]
    },
    {
      "cell_type": "markdown",
      "metadata": {},
      "source": [
        "We can find the steady points in this system by doing a multi-variate root find on the RHS vector"
      ]
    },
    {
      "cell_type": "code",
      "execution_count": null,
      "metadata": {},
      "outputs": [],
      "source": [
        "sol1 = optimize.root(f, [1., 1., 1.], jac=True)\n",
        "print(sol1.x)\n",
        "\n",
        "sol2 = optimize.root(f, [10., 10., 10.], jac=True)\n",
        "print(sol2.x)\n",
        "\n",
        "sol3 = optimize.root(f, [-10., -10., -10.], jac=True)\n",
        "print(sol3.x)"
      ]
    },
    {
      "cell_type": "code",
      "execution_count": null,
      "metadata": {},
      "outputs": [],
      "source": [
        "fig = plt.figure()\n",
        "fig.set_size_inches(8, 8)\n",
        "ax = plt.axes(projection='3d')\n",
        "\n",
        "ax.plot(X[0,:], X[1,:], X[2,:])\n",
        "\n",
        "ax.scatter(sol1.x[0], sol1.x[1], sol1.x[2], marker=\"x\", color=\"r\")\n",
        "ax.scatter(sol2.x[0], sol2.x[1], sol2.x[2], marker=\"x\", color=\"r\")\n",
        "ax.scatter(sol3.x[0], sol3.x[1], sol3.x[2], marker=\"x\", color=\"r\")\n",
        "\n",
        "ax.set_xlabel(\"x\")\n",
        "ax.set_ylabel(\"y\")\n",
        "ax.set_zlabel(\"z\")"
      ]
    },
    {
      "cell_type": "markdown",
      "metadata": {},
      "source": [
        "### Stiff system of ODEs"
      ]
    },
    {
      "cell_type": "markdown",
      "metadata": {},
      "source": [
        "A stiff system of ODEs is one where there are multiple disparate timescales for change and we need to respect all of them to get an accurate solution\n",
        "\n",
        "Here is an example from Chemical Kinetics (see, ex. Byrne & Hindmarsh 1986, or the VODE source code)\n",
        "\n",
        "$$\n",
        "\\frac{d}{dt} \\left (\n",
        "   \\begin{array}{c} y_1 \\newline y_2 \\newline y_3 \\end{array}\n",
        "  \\right ) =\n",
        "%\n",
        "\\left (\n",
        " \\begin{array}{rrr}\n",
        "  -0.04 y_1 & + 10^4 y_2 y_3  & \\newline\n",
        "   0.04 y_1 & - 10^4 y_2 y_3 & -3\\times 10^7 y_2^2 \\newline\n",
        "   &  & 3\\times 10^7 y_2^2 \n",
        "\\end{array}\n",
        "\\right )\n",
        "$$\n",
        "\n",
        "$$\n",
        "{\\bf J} = \\left (\n",
        "\\begin{array}{ccc}\n",
        "  -0.04 & 10^4 y_3 & 10^4 y_2 \\newline\n",
        "   0.04 & -10^4 y_3 - 6\\times 10^7 y_2 & -10^4 y_2 \\newline\n",
        "   0 & 6\\times 10^7 y_2 & 0 \n",
        "\\end{array}\n",
        "\\right )\n",
        "$$\n",
        "\n",
        "start with $y_1(0) = 1, y_2(0) = y_3(0) = 0$.  Long term behavior is $y_1, y_2 \\rightarrow 0; y_3 \\rightarrow 1$"
      ]
    },
    {
      "cell_type": "code",
      "execution_count": null,
      "metadata": {},
      "outputs": [],
      "source": [
        "def rhs(t, Y):\n",
        "    \"\"\" RHS of the system -- using 0-based indexing \"\"\"\n",
        "    y1 = Y[0]\n",
        "    y2 = Y[1]\n",
        "    y3 = Y[2]\n",
        "\n",
        "    dy1dt = -0.04*y1 + 1.e4*y2*y3\n",
        "    dy2dt =  0.04*y1 - 1.e4*y2*y3 - 3.e7*y2**2\n",
        "    dy3dt =                         3.e7*y2**2\n",
        "\n",
        "    return np.array([dy1dt, dy2dt, dy3dt])\n",
        "\n",
        "def jac(t, Y):\n",
        "    \"\"\" J_{i,j} = df_i/dy_j \"\"\"\n",
        "\n",
        "    y1 = Y[0]\n",
        "    y2 = Y[1]\n",
        "    y3 = Y[2]\n",
        "\n",
        "    df1dy1 = -0.04\n",
        "    df1dy2 = 1.e4*y3\n",
        "    df1dy3 = 1.e4*y2\n",
        "\n",
        "    df2dy1 = 0.04\n",
        "    df2dy2 = -1.e4*y3 - 6.e7*y2\n",
        "    df2dy3 = -1.e4*y2\n",
        "\n",
        "    df3dy1 = 0.0\n",
        "    df3dy2 = 6.e7*y2\n",
        "    df3dy3 = 0.0\n",
        "\n",
        "    return np.array([ [ df1dy1, df1dy2, df1dy3 ],\n",
        "                      [ df2dy1, df2dy2, df2dy3 ],\n",
        "                      [ df3dy1, df3dy2, df3dy3 ] ])"
      ]
    },
    {
      "cell_type": "code",
      "execution_count": null,
      "metadata": {},
      "outputs": [],
      "source": [
        "def vode_integrate(Y0, tmax):\n",
        "    \"\"\" integrate using the NDF method \"\"\"\n",
        "\n",
        "    r = integrate.solve_ivp(rhs, (0.0, tmax), Y0,\n",
        "                            method=\"BDF\", jac=jac, rtol=1.e-7, atol=1.e-10)\n",
        "\n",
        "    # Note: this solver does not have a dens_output method, instead we \n",
        "    # access the solution data where it was evaluated internally via\n",
        "    # the return object\n",
        "    \n",
        "    return r.t, r.y"
      ]
    },
    {
      "cell_type": "code",
      "execution_count": null,
      "metadata": {},
      "outputs": [],
      "source": [
        "Y0 = np.array([1.0, 0.0, 0.0])\n",
        "tmax = 4.e7\n",
        "\n",
        "ts, Ys = vode_integrate(Y0, tmax)\n",
        "\n",
        "fig, ax = plt.subplots()\n",
        "ax.loglog(ts, Ys[0,:], label=r\"$y_1$\")\n",
        "ax.loglog(ts, Ys[1,:], label=r\"$y_2$\")\n",
        "ax.loglog(ts, Ys[2,:], label=r\"$y_3$\")\n",
        "\n",
        "ax.legend(loc=\"best\", frameon=False)\n",
        "ax.set_xlabel(\"time\")"
      ]
    },
    {
      "cell_type": "markdown",
      "metadata": {},
      "source": [
        "```{admonition} try it\n",
        "Redo this integration, but now use the `RK45` solver instead of `BDF`.  Does it work?\n",
        "\n",
        "You may need to use the `kernel` menu in Jupyter to interrupt the kernel if you get impatient.\n",
        "```"
      ]
    }
  ],
  "metadata": {
    "kernelspec": {
      "display_name": "Python 3",
      "language": "python",
      "name": "python3"
    },
    "language_info": {
      "codemirror_mode": {
        "name": "ipython",
        "version": 3
      },
      "file_extension": ".py",
      "mimetype": "text/x-python",
      "name": "python",
      "nbconvert_exporter": "python",
      "pygments_lexer": "ipython3",
      "version": "3.13.7"
    }
  },
  "nbformat": 4,
  "nbformat_minor": 4
}
